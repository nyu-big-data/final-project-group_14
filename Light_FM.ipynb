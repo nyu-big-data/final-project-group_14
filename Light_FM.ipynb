{
 "cells": [
  {
   "cell_type": "code",
   "execution_count": 1,
   "id": "8c1a29eb",
   "metadata": {},
   "outputs": [
    {
     "name": "stdout",
     "output_type": "stream",
     "text": [
      "Collecting lightfm\n",
      "  Downloading lightfm-1.16.tar.gz (310 kB)\n",
      "\u001b[K     |████████████████████████████████| 310 kB 4.4 MB/s eta 0:00:01\n",
      "\u001b[?25hRequirement already satisfied: numpy in /Users/shambhavirege/opt/anaconda3/lib/python3.8/site-packages (from lightfm) (1.20.1)\n",
      "Requirement already satisfied: scipy>=0.17.0 in /Users/shambhavirege/opt/anaconda3/lib/python3.8/site-packages (from lightfm) (1.7.1)\n",
      "Requirement already satisfied: requests in /Users/shambhavirege/opt/anaconda3/lib/python3.8/site-packages (from lightfm) (2.25.1)\n",
      "Requirement already satisfied: scikit-learn in /Users/shambhavirege/opt/anaconda3/lib/python3.8/site-packages (from lightfm) (0.24.1)\n",
      "Requirement already satisfied: certifi>=2017.4.17 in /Users/shambhavirege/opt/anaconda3/lib/python3.8/site-packages (from requests->lightfm) (2020.12.5)\n",
      "Requirement already satisfied: idna<3,>=2.5 in /Users/shambhavirege/opt/anaconda3/lib/python3.8/site-packages (from requests->lightfm) (2.10)\n",
      "Requirement already satisfied: urllib3<1.27,>=1.21.1 in /Users/shambhavirege/opt/anaconda3/lib/python3.8/site-packages (from requests->lightfm) (1.26.4)\n",
      "Requirement already satisfied: chardet<5,>=3.0.2 in /Users/shambhavirege/opt/anaconda3/lib/python3.8/site-packages (from requests->lightfm) (3.0.4)\n",
      "Requirement already satisfied: threadpoolctl>=2.0.0 in /Users/shambhavirege/opt/anaconda3/lib/python3.8/site-packages (from scikit-learn->lightfm) (2.1.0)\n",
      "Requirement already satisfied: joblib>=0.11 in /Users/shambhavirege/opt/anaconda3/lib/python3.8/site-packages (from scikit-learn->lightfm) (1.0.1)\n",
      "Building wheels for collected packages: lightfm\n",
      "  Building wheel for lightfm (setup.py) ... \u001b[?25ldone\n",
      "\u001b[?25h  Created wheel for lightfm: filename=lightfm-1.16-cp38-cp38-macosx_10_9_x86_64.whl size=436455 sha256=982e596dabc4de0212c3bb5b2eb48c2ff48d6e7e02f4725a4864ef74e0853baf\n",
      "  Stored in directory: /Users/shambhavirege/Library/Caches/pip/wheels/ec/bb/51/9c487d021c1373b691d13cadca0b65b6852627b1f3f43550fa\n",
      "Successfully built lightfm\n",
      "Installing collected packages: lightfm\n",
      "Successfully installed lightfm-1.16\n",
      "Note: you may need to restart the kernel to use updated packages.\n"
     ]
    }
   ],
   "source": [
    "pip install lightfm"
   ]
  },
  {
   "cell_type": "code",
   "execution_count": 37,
   "id": "b641db96",
   "metadata": {},
   "outputs": [
    {
     "name": "stdout",
     "output_type": "stream",
     "text": [
      "Collecting scikit-optimize\n",
      "  Downloading scikit_optimize-0.9.0-py2.py3-none-any.whl (100 kB)\n",
      "\u001b[K     |████████████████████████████████| 100 kB 391 kB/s ta 0:00:011\n",
      "\u001b[?25hRequirement already satisfied: scikit-learn>=0.20.0 in /Users/shambhavirege/opt/anaconda3/lib/python3.8/site-packages (from scikit-optimize) (0.24.1)\n",
      "Requirement already satisfied: scipy>=0.19.1 in /Users/shambhavirege/opt/anaconda3/lib/python3.8/site-packages (from scikit-optimize) (1.7.1)\n",
      "Collecting pyaml>=16.9\n",
      "  Downloading pyaml-21.10.1-py2.py3-none-any.whl (24 kB)\n",
      "Requirement already satisfied: joblib>=0.11 in /Users/shambhavirege/opt/anaconda3/lib/python3.8/site-packages (from scikit-optimize) (1.0.1)\n",
      "Requirement already satisfied: numpy>=1.13.3 in /Users/shambhavirege/opt/anaconda3/lib/python3.8/site-packages (from scikit-optimize) (1.20.1)\n",
      "Requirement already satisfied: PyYAML in /Users/shambhavirege/opt/anaconda3/lib/python3.8/site-packages (from pyaml>=16.9->scikit-optimize) (5.4.1)\n",
      "Requirement already satisfied: threadpoolctl>=2.0.0 in /Users/shambhavirege/opt/anaconda3/lib/python3.8/site-packages (from scikit-learn>=0.20.0->scikit-optimize) (2.1.0)\n",
      "Installing collected packages: pyaml, scikit-optimize\n",
      "Successfully installed pyaml-21.10.1 scikit-optimize-0.9.0\n",
      "Note: you may need to restart the kernel to use updated packages.\n"
     ]
    }
   ],
   "source": [
    "pip install scikit-optimize"
   ]
  },
  {
   "cell_type": "code",
   "execution_count": 3,
   "id": "3ff834d3",
   "metadata": {},
   "outputs": [],
   "source": [
    "%matplotlib inline\n",
    "import matplotlib.pyplot as plt\n",
    "import numpy as np\n",
    "import pandas as pd\n",
    "import scipy.sparse as sp\n",
    "from scipy.special import expit\n",
    "import pickle\n",
    "import csv\n",
    "import copy\n",
    "import itertools\n",
    "from lightfm import LightFM\n",
    "import lightfm.evaluation\n",
    "import sys\n",
    "sys.path.append('../')"
   ]
  },
  {
   "cell_type": "code",
   "execution_count": 5,
   "id": "3eeeb39f",
   "metadata": {},
   "outputs": [],
   "source": [
    "df = pd.read_csv('ml-latest-small/ratings.csv')"
   ]
  },
  {
   "cell_type": "code",
   "execution_count": 6,
   "id": "6a807191",
   "metadata": {},
   "outputs": [],
   "source": [
    "def threshold_interactions_df(df, row_name, col_name, row_min, col_min):\n",
    "    \"\"\"Limit interactions df to minimum row and column interactions.\n",
    "    Parameters\n",
    "    ----------\n",
    "    df : DataFrame\n",
    "        DataFrame which contains a single row for each interaction between\n",
    "        two entities. Typically, the two entities are a user and an item.\n",
    "    row_name : str\n",
    "        Name of column in df which corresponds to the eventual row in the\n",
    "        interactions matrix.\n",
    "    col_name : str\n",
    "        Name of column in df which corresponds to the eventual column in the\n",
    "        interactions matrix.\n",
    "    row_min : int\n",
    "        Minimum number of interactions that the row entity has had with\n",
    "        distinct column entities.\n",
    "    col_min : int\n",
    "        Minimum number of interactions that the column entity has had with\n",
    "        distinct row entities.\n",
    "    Returns\n",
    "    -------\n",
    "    df : DataFrame\n",
    "        Thresholded version of the input df. Order of rows is not preserved.\n",
    "    Examples\n",
    "    --------\n",
    "    df looks like:\n",
    "    user_id | item_id\n",
    "    =================\n",
    "      1001  |  2002\n",
    "      1001  |  2004\n",
    "      1002  |  2002\n",
    "    thus, row_name = 'user_id', and col_name = 'item_id'\n",
    "    If we were to set row_min = 2 and col_min = 1, then the returned df would\n",
    "    look like\n",
    "    user_id | item_id\n",
    "    =================\n",
    "      1001  |  2002\n",
    "      1001  |  2004\n",
    "    \"\"\"\n",
    "\n",
    "    n_rows = df[row_name].unique().shape[0]\n",
    "    n_cols = df[col_name].unique().shape[0]\n",
    "    sparsity = float(df.shape[0]) / float(n_rows*n_cols) * 100\n",
    "    print('Starting interactions info')\n",
    "    print('Number of rows: {}'.format(n_rows))\n",
    "    print('Number of cols: {}'.format(n_cols))\n",
    "    print('Sparsity: {:4.3f}%'.format(sparsity))\n",
    "\n",
    "    done = False\n",
    "    while not done:\n",
    "        starting_shape = df.shape[0]\n",
    "        col_counts = df.groupby(row_name)[col_name].count()\n",
    "        df = df[~df[row_name].isin(col_counts[col_counts < col_min].index.tolist())]\n",
    "        row_counts = df.groupby(col_name)[row_name].count()\n",
    "        df = df[~df[col_name].isin(row_counts[row_counts < row_min].index.tolist())]\n",
    "        ending_shape = df.shape[0]\n",
    "        if starting_shape == ending_shape:\n",
    "            done = True\n",
    "\n",
    "    n_rows = df[row_name].unique().shape[0]\n",
    "    n_cols = df[col_name].unique().shape[0]\n",
    "    sparsity = float(df.shape[0]) / float(n_rows*n_cols) * 100\n",
    "    print('Ending interactions info')\n",
    "    print('Number of rows: {}'.format(n_rows))\n",
    "    print('Number of columns: {}'.format(n_cols))\n",
    "    print('Sparsity: {:4.3f}%'.format(sparsity))\n",
    "    return df\n"
   ]
  },
  {
   "cell_type": "code",
   "execution_count": 16,
   "id": "4659cee7",
   "metadata": {},
   "outputs": [],
   "source": [
    "def df_to_matrix(df, row_name, col_name):\n",
    "    \"\"\"Take interactions dataframe and convert to a sparse matrix\n",
    "    Parameters\n",
    "    ----------\n",
    "    df : DataFrame\n",
    "    row_name : str\n",
    "    col_name : str\n",
    "    Returns\n",
    "    -------\n",
    "    interactions : sparse csr matrix\n",
    "    rid_to_idx : dict\n",
    "    idx_to_rid : dict\n",
    "    cid_to_idx : dict\n",
    "    idx_to_cid : dict\n",
    "    \"\"\"\n",
    "\n",
    "    rid_to_idx, idx_to_rid,\\\n",
    "        cid_to_idx, idx_to_cid = get_df_matrix_mappings(df,\n",
    "                                                        row_name,\n",
    "                                                        col_name)\n",
    "\n",
    "    def map_ids(row, mapper):\n",
    "        return mapper[row]\n",
    "\n",
    "    I = df[row_name].apply(map_ids, args=[rid_to_idx]).to_numpy()\n",
    "    J = df[col_name].apply(map_ids, args=[cid_to_idx]).to_numpy()\n",
    "    V = np.ones(I.shape[0])\n",
    "    interactions = sp.coo_matrix((V, (I, J)), dtype=np.float64)\n",
    "    interactions = interactions.tocsr()\n",
    "    return interactions, rid_to_idx, idx_to_rid, cid_to_idx, idx_to_cid"
   ]
  },
  {
   "cell_type": "code",
   "execution_count": 17,
   "id": "f74e2216",
   "metadata": {},
   "outputs": [],
   "source": [
    "def get_df_matrix_mappings(df, row_name, col_name):\n",
    "    \"\"\"Map entities in interactions df to row and column indices\n",
    "    Parameters\n",
    "    ----------\n",
    "    df : DataFrame\n",
    "        Interactions DataFrame.\n",
    "    row_name : str\n",
    "        Name of column in df which contains row entities.\n",
    "    col_name : str\n",
    "        Name of column in df which contains column entities.\n",
    "    Returns\n",
    "    -------\n",
    "    rid_to_idx : dict\n",
    "        Maps row ID's to the row index in the eventual interactions matrix.\n",
    "    idx_to_rid : dict\n",
    "        Reverse of rid_to_idx. Maps row index to row ID.\n",
    "    cid_to_idx : dict\n",
    "        Same as rid_to_idx but for column ID's\n",
    "    idx_to_cid : dict\n",
    "    \"\"\"\n",
    "\n",
    "\n",
    "    # Create mappings\n",
    "    rid_to_idx = {}\n",
    "    idx_to_rid = {}\n",
    "    for (idx, rid) in enumerate(df[row_name].unique().tolist()):\n",
    "        rid_to_idx[rid] = idx\n",
    "        idx_to_rid[idx] = rid\n",
    "\n",
    "    cid_to_idx = {}\n",
    "    idx_to_cid = {}\n",
    "    for (idx, cid) in enumerate(df[col_name].unique().tolist()):\n",
    "        cid_to_idx[cid] = idx\n",
    "        idx_to_cid[idx] = cid\n",
    "\n",
    "    return rid_to_idx, idx_to_rid, cid_to_idx, idx_to_cid\n"
   ]
  },
  {
   "cell_type": "code",
   "execution_count": 18,
   "id": "9625be2a",
   "metadata": {},
   "outputs": [
    {
     "data": {
      "text/html": [
       "<div>\n",
       "<style scoped>\n",
       "    .dataframe tbody tr th:only-of-type {\n",
       "        vertical-align: middle;\n",
       "    }\n",
       "\n",
       "    .dataframe tbody tr th {\n",
       "        vertical-align: top;\n",
       "    }\n",
       "\n",
       "    .dataframe thead th {\n",
       "        text-align: right;\n",
       "    }\n",
       "</style>\n",
       "<table border=\"1\" class=\"dataframe\">\n",
       "  <thead>\n",
       "    <tr style=\"text-align: right;\">\n",
       "      <th></th>\n",
       "      <th>userId</th>\n",
       "      <th>movieId</th>\n",
       "      <th>rating</th>\n",
       "      <th>timestamp</th>\n",
       "    </tr>\n",
       "  </thead>\n",
       "  <tbody>\n",
       "    <tr>\n",
       "      <th>0</th>\n",
       "      <td>1</td>\n",
       "      <td>1</td>\n",
       "      <td>4.0</td>\n",
       "      <td>964982703</td>\n",
       "    </tr>\n",
       "    <tr>\n",
       "      <th>1</th>\n",
       "      <td>1</td>\n",
       "      <td>3</td>\n",
       "      <td>4.0</td>\n",
       "      <td>964981247</td>\n",
       "    </tr>\n",
       "    <tr>\n",
       "      <th>2</th>\n",
       "      <td>1</td>\n",
       "      <td>6</td>\n",
       "      <td>4.0</td>\n",
       "      <td>964982224</td>\n",
       "    </tr>\n",
       "    <tr>\n",
       "      <th>3</th>\n",
       "      <td>1</td>\n",
       "      <td>47</td>\n",
       "      <td>5.0</td>\n",
       "      <td>964983815</td>\n",
       "    </tr>\n",
       "    <tr>\n",
       "      <th>4</th>\n",
       "      <td>1</td>\n",
       "      <td>50</td>\n",
       "      <td>5.0</td>\n",
       "      <td>964982931</td>\n",
       "    </tr>\n",
       "    <tr>\n",
       "      <th>...</th>\n",
       "      <td>...</td>\n",
       "      <td>...</td>\n",
       "      <td>...</td>\n",
       "      <td>...</td>\n",
       "    </tr>\n",
       "    <tr>\n",
       "      <th>100831</th>\n",
       "      <td>610</td>\n",
       "      <td>166534</td>\n",
       "      <td>4.0</td>\n",
       "      <td>1493848402</td>\n",
       "    </tr>\n",
       "    <tr>\n",
       "      <th>100832</th>\n",
       "      <td>610</td>\n",
       "      <td>168248</td>\n",
       "      <td>5.0</td>\n",
       "      <td>1493850091</td>\n",
       "    </tr>\n",
       "    <tr>\n",
       "      <th>100833</th>\n",
       "      <td>610</td>\n",
       "      <td>168250</td>\n",
       "      <td>5.0</td>\n",
       "      <td>1494273047</td>\n",
       "    </tr>\n",
       "    <tr>\n",
       "      <th>100834</th>\n",
       "      <td>610</td>\n",
       "      <td>168252</td>\n",
       "      <td>5.0</td>\n",
       "      <td>1493846352</td>\n",
       "    </tr>\n",
       "    <tr>\n",
       "      <th>100835</th>\n",
       "      <td>610</td>\n",
       "      <td>170875</td>\n",
       "      <td>3.0</td>\n",
       "      <td>1493846415</td>\n",
       "    </tr>\n",
       "  </tbody>\n",
       "</table>\n",
       "<p>100836 rows × 4 columns</p>\n",
       "</div>"
      ],
      "text/plain": [
       "        userId  movieId  rating   timestamp\n",
       "0            1        1     4.0   964982703\n",
       "1            1        3     4.0   964981247\n",
       "2            1        6     4.0   964982224\n",
       "3            1       47     5.0   964983815\n",
       "4            1       50     5.0   964982931\n",
       "...        ...      ...     ...         ...\n",
       "100831     610   166534     4.0  1493848402\n",
       "100832     610   168248     5.0  1493850091\n",
       "100833     610   168250     5.0  1494273047\n",
       "100834     610   168252     5.0  1493846352\n",
       "100835     610   170875     3.0  1493846415\n",
       "\n",
       "[100836 rows x 4 columns]"
      ]
     },
     "execution_count": 18,
     "metadata": {},
     "output_type": "execute_result"
    }
   ],
   "source": [
    "df"
   ]
  },
  {
   "cell_type": "code",
   "execution_count": 19,
   "id": "ff2f2c0c",
   "metadata": {},
   "outputs": [
    {
     "name": "stdout",
     "output_type": "stream",
     "text": [
      "Starting interactions info\n",
      "Number of rows: 610\n",
      "Number of cols: 9724\n",
      "Sparsity: 1.700%\n",
      "Ending interactions info\n",
      "Number of rows: 610\n",
      "Number of columns: 3650\n",
      "Sparsity: 4.055%\n"
     ]
    }
   ],
   "source": [
    "new_df = threshold_interactions_df(df, 'userId', 'movieId', 5, 5)"
   ]
  },
  {
   "cell_type": "code",
   "execution_count": 20,
   "id": "4c883a3a",
   "metadata": {},
   "outputs": [
    {
     "data": {
      "text/html": [
       "<div>\n",
       "<style scoped>\n",
       "    .dataframe tbody tr th:only-of-type {\n",
       "        vertical-align: middle;\n",
       "    }\n",
       "\n",
       "    .dataframe tbody tr th {\n",
       "        vertical-align: top;\n",
       "    }\n",
       "\n",
       "    .dataframe thead th {\n",
       "        text-align: right;\n",
       "    }\n",
       "</style>\n",
       "<table border=\"1\" class=\"dataframe\">\n",
       "  <thead>\n",
       "    <tr style=\"text-align: right;\">\n",
       "      <th></th>\n",
       "      <th>userId</th>\n",
       "      <th>movieId</th>\n",
       "      <th>rating</th>\n",
       "      <th>timestamp</th>\n",
       "    </tr>\n",
       "  </thead>\n",
       "  <tbody>\n",
       "    <tr>\n",
       "      <th>0</th>\n",
       "      <td>1</td>\n",
       "      <td>1</td>\n",
       "      <td>4.0</td>\n",
       "      <td>964982703</td>\n",
       "    </tr>\n",
       "    <tr>\n",
       "      <th>1</th>\n",
       "      <td>1</td>\n",
       "      <td>3</td>\n",
       "      <td>4.0</td>\n",
       "      <td>964981247</td>\n",
       "    </tr>\n",
       "    <tr>\n",
       "      <th>2</th>\n",
       "      <td>1</td>\n",
       "      <td>6</td>\n",
       "      <td>4.0</td>\n",
       "      <td>964982224</td>\n",
       "    </tr>\n",
       "    <tr>\n",
       "      <th>3</th>\n",
       "      <td>1</td>\n",
       "      <td>47</td>\n",
       "      <td>5.0</td>\n",
       "      <td>964983815</td>\n",
       "    </tr>\n",
       "    <tr>\n",
       "      <th>4</th>\n",
       "      <td>1</td>\n",
       "      <td>50</td>\n",
       "      <td>5.0</td>\n",
       "      <td>964982931</td>\n",
       "    </tr>\n",
       "    <tr>\n",
       "      <th>...</th>\n",
       "      <td>...</td>\n",
       "      <td>...</td>\n",
       "      <td>...</td>\n",
       "      <td>...</td>\n",
       "    </tr>\n",
       "    <tr>\n",
       "      <th>100830</th>\n",
       "      <td>610</td>\n",
       "      <td>166528</td>\n",
       "      <td>4.0</td>\n",
       "      <td>1493879365</td>\n",
       "    </tr>\n",
       "    <tr>\n",
       "      <th>100831</th>\n",
       "      <td>610</td>\n",
       "      <td>166534</td>\n",
       "      <td>4.0</td>\n",
       "      <td>1493848402</td>\n",
       "    </tr>\n",
       "    <tr>\n",
       "      <th>100832</th>\n",
       "      <td>610</td>\n",
       "      <td>168248</td>\n",
       "      <td>5.0</td>\n",
       "      <td>1493850091</td>\n",
       "    </tr>\n",
       "    <tr>\n",
       "      <th>100833</th>\n",
       "      <td>610</td>\n",
       "      <td>168250</td>\n",
       "      <td>5.0</td>\n",
       "      <td>1494273047</td>\n",
       "    </tr>\n",
       "    <tr>\n",
       "      <th>100834</th>\n",
       "      <td>610</td>\n",
       "      <td>168252</td>\n",
       "      <td>5.0</td>\n",
       "      <td>1493846352</td>\n",
       "    </tr>\n",
       "  </tbody>\n",
       "</table>\n",
       "<p>90274 rows × 4 columns</p>\n",
       "</div>"
      ],
      "text/plain": [
       "        userId  movieId  rating   timestamp\n",
       "0            1        1     4.0   964982703\n",
       "1            1        3     4.0   964981247\n",
       "2            1        6     4.0   964982224\n",
       "3            1       47     5.0   964983815\n",
       "4            1       50     5.0   964982931\n",
       "...        ...      ...     ...         ...\n",
       "100830     610   166528     4.0  1493879365\n",
       "100831     610   166534     4.0  1493848402\n",
       "100832     610   168248     5.0  1493850091\n",
       "100833     610   168250     5.0  1494273047\n",
       "100834     610   168252     5.0  1493846352\n",
       "\n",
       "[90274 rows x 4 columns]"
      ]
     },
     "execution_count": 20,
     "metadata": {},
     "output_type": "execute_result"
    }
   ],
   "source": [
    "new_df"
   ]
  },
  {
   "cell_type": "code",
   "execution_count": 21,
   "id": "9b7a65bc",
   "metadata": {},
   "outputs": [
    {
     "data": {
      "text/plain": [
       "<610x3650 sparse matrix of type '<class 'numpy.float64'>'\n",
       "\twith 90274 stored elements in Compressed Sparse Row format>"
      ]
     },
     "execution_count": 21,
     "metadata": {},
     "output_type": "execute_result"
    }
   ],
   "source": [
    "likes, uid_to_idx, idx_to_uid,mid_to_idx, idx_to_mid = df_to_matrix(new_df, 'userId', 'movieId')\n",
    "\n",
    "likes"
   ]
  },
  {
   "cell_type": "code",
   "execution_count": 22,
   "id": "1676be7f",
   "metadata": {},
   "outputs": [],
   "source": [
    "def train_test_split(interactions, split_count, fraction=None):\n",
    "    \"\"\"\n",
    "    Split recommendation data into train and test sets\n",
    "    Params\n",
    "    ------\n",
    "    interactions : scipy.sparse matrix\n",
    "        Interactions between users and items.\n",
    "    split_count : int\n",
    "        Number of user-item-interactions per user to move\n",
    "        from training to test set.\n",
    "    fractions : float\n",
    "        Fraction of users to split off some of their\n",
    "        interactions into test set. If None, then all\n",
    "        users are considered.\n",
    "    \"\"\"\n",
    "    # Note: likely not the fastest way to do things below.\n",
    "    train = interactions.copy().tocoo()\n",
    "    test = sp.lil_matrix(train.shape)\n",
    "\n",
    "    if fraction:\n",
    "        try:\n",
    "            user_index = np.random.choice(\n",
    "                np.where(np.bincount(train.row) >= split_count * 2)[0],\n",
    "                replace=False,\n",
    "                size=np.int64(np.floor(fraction * train.shape[0]))\n",
    "            ).tolist()\n",
    "        except:\n",
    "            print(('Not enough users with > {} '\n",
    "                  'interactions for fraction of {}')\\\n",
    "                  .format(2*split_count, fraction))\n",
    "            raise\n",
    "    else:\n",
    "        user_index = range(train.shape[0])\n",
    "\n",
    "    train = train.tolil()\n",
    "\n",
    "    for user in user_index:\n",
    "        test_interactions = np.random.choice(interactions.getrow(user).indices,\n",
    "                                        size=split_count,\n",
    "                                        replace=False)\n",
    "        train[user, test_interactions] = 0.\n",
    "        # These are just 1.0 right now\n",
    "        test[user, test_interactions] = interactions[user, test_interactions]\n",
    "\n",
    "\n",
    "    # Test and training are truly disjoint\n",
    "    assert(train.multiply(test).nnz == 0)\n",
    "    return train.tocsr(), test.tocsr(), user_index"
   ]
  },
  {
   "cell_type": "code",
   "execution_count": 23,
   "id": "5775a055",
   "metadata": {},
   "outputs": [],
   "source": [
    "train, test, user_index = train_test_split(likes, 5, fraction=0.2)"
   ]
  },
  {
   "cell_type": "code",
   "execution_count": 24,
   "id": "922efdef",
   "metadata": {},
   "outputs": [],
   "source": [
    "eval_train = train.copy()\n",
    "non_eval_users = list(set(range(train.shape[0])) - set(user_index))\n",
    "\n",
    "eval_train = eval_train.tolil()\n",
    "for u in non_eval_users:\n",
    "    eval_train[u, :] = 0.0\n",
    "eval_train = eval_train.tocsr()"
   ]
  },
  {
   "cell_type": "code",
   "execution_count": 27,
   "id": "78aaf67f",
   "metadata": {},
   "outputs": [],
   "source": [
    "feat_dlist = [{} for _ in idx_to_mid]\n",
    "for idx, row in new_df.iterrows():\n",
    "    feat_key = '{}'.format(row.rating)\n",
    "    idx = mid_to_idx.get(row.movieId)\n",
    "    if idx is not None:\n",
    "        feat_dlist[idx][feat_key] = 1"
   ]
  },
  {
   "cell_type": "code",
   "execution_count": 29,
   "id": "dcbb0281",
   "metadata": {},
   "outputs": [],
   "source": [
    "from sklearn.feature_extraction import DictVectorizer"
   ]
  },
  {
   "cell_type": "code",
   "execution_count": 30,
   "id": "f8375c48",
   "metadata": {},
   "outputs": [],
   "source": [
    "dv = DictVectorizer()\n",
    "item_features = dv.fit_transform(feat_dlist)"
   ]
  },
  {
   "cell_type": "code",
   "execution_count": 31,
   "id": "162f812e",
   "metadata": {},
   "outputs": [
    {
     "data": {
      "text/plain": [
       "<3650x10 sparse matrix of type '<class 'numpy.float64'>'\n",
       "\twith 21041 stored elements in Compressed Sparse Row format>"
      ]
     },
     "execution_count": 31,
     "metadata": {},
     "output_type": "execute_result"
    }
   ],
   "source": [
    "item_features"
   ]
  },
  {
   "cell_type": "code",
   "execution_count": 42,
   "id": "c90060a9",
   "metadata": {},
   "outputs": [],
   "source": [
    "import skopt"
   ]
  },
  {
   "cell_type": "code",
   "execution_count": 43,
   "id": "01f6b978",
   "metadata": {},
   "outputs": [],
   "source": [
    "from skopt import forest_minimize"
   ]
  },
  {
   "cell_type": "code",
   "execution_count": 44,
   "id": "44b6737c",
   "metadata": {},
   "outputs": [],
   "source": [
    "def objective(params):\n",
    "    # unpack\n",
    "    epochs, learning_rate,\\\n",
    "    no_components, alpha = params\n",
    "    \n",
    "    user_alpha = alpha\n",
    "    item_alpha = alpha\n",
    "    model = LightFM(loss='warp',\n",
    "                    random_state=2016,\n",
    "                    learning_rate=learning_rate,\n",
    "                    no_components=no_components,\n",
    "                    user_alpha=user_alpha,\n",
    "                    item_alpha=item_alpha)\n",
    "    model.fit(train, epochs=epochs,\n",
    "              num_threads=4, verbose=True)\n",
    "    \n",
    "    patks = lightfm.evaluation.precision_at_k(model, test,\n",
    "                                              train_interactions=None,\n",
    "                                              k=5, num_threads=4)\n",
    "    mapatk = np.mean(patks)\n",
    "    # Make negative because we want to _minimize_ objective\n",
    "    out = -mapatk\n",
    "    # Handle some weird numerical shit going on\n",
    "    if np.abs(out + 1) < 0.01 or out < -1.0:\n",
    "        return 0.0\n",
    "    else:\n",
    "        return out"
   ]
  },
  {
   "cell_type": "code",
   "execution_count": 45,
   "id": "a67c7441",
   "metadata": {},
   "outputs": [
    {
     "name": "stderr",
     "output_type": "stream",
     "text": [
      "\r",
      "Epoch:   0%|          | 0/48 [00:00<?, ?it/s]"
     ]
    },
    {
     "name": "stdout",
     "output_type": "stream",
     "text": [
      "Iteration No: 1 started. Evaluating function at random point.\n"
     ]
    },
    {
     "name": "stderr",
     "output_type": "stream",
     "text": [
      "Epoch: 100%|██████████| 48/48 [00:07<00:00,  6.58it/s]\n",
      "Epoch:  20%|██        | 2/10 [00:00<00:00, 11.14it/s]"
     ]
    },
    {
     "name": "stdout",
     "output_type": "stream",
     "text": [
      "Iteration No: 1 ended. Evaluation done at random point.\n",
      "Time taken: 7.3832\n",
      "Function value obtained: -0.0016\n",
      "Current minimum: -0.0016\n",
      "Iteration No: 2 started. Evaluating function at random point.\n"
     ]
    },
    {
     "name": "stderr",
     "output_type": "stream",
     "text": [
      "Epoch: 100%|██████████| 10/10 [00:00<00:00, 10.79it/s]\n",
      "Epoch:   1%|          | 1/89 [00:00<00:16,  5.22it/s]"
     ]
    },
    {
     "name": "stdout",
     "output_type": "stream",
     "text": [
      "Iteration No: 2 ended. Evaluation done at random point.\n",
      "Time taken: 0.9516\n",
      "Function value obtained: -0.0426\n",
      "Current minimum: -0.0426\n",
      "Iteration No: 3 started. Evaluating function at random point.\n"
     ]
    },
    {
     "name": "stderr",
     "output_type": "stream",
     "text": [
      "Epoch: 100%|██████████| 89/89 [00:10<00:00,  8.67it/s]\n",
      "Epoch:   2%|▏         | 2/89 [00:00<00:06, 12.46it/s]"
     ]
    },
    {
     "name": "stdout",
     "output_type": "stream",
     "text": [
      "Iteration No: 3 ended. Evaluation done at random point.\n",
      "Time taken: 10.2933\n",
      "Function value obtained: -0.0328\n",
      "Current minimum: -0.0426\n",
      "Iteration No: 4 started. Evaluating function at random point.\n"
     ]
    },
    {
     "name": "stderr",
     "output_type": "stream",
     "text": [
      "Epoch: 100%|██████████| 89/89 [00:09<00:00,  9.28it/s]\n",
      "Epoch:   0%|          | 0/116 [00:00<?, ?it/s]"
     ]
    },
    {
     "name": "stdout",
     "output_type": "stream",
     "text": [
      "Iteration No: 4 ended. Evaluation done at random point.\n",
      "Time taken: 9.6311\n",
      "Function value obtained: -0.0311\n",
      "Current minimum: -0.0426\n",
      "Iteration No: 5 started. Evaluating function at random point.\n"
     ]
    },
    {
     "name": "stderr",
     "output_type": "stream",
     "text": [
      "Epoch: 100%|██████████| 116/116 [00:20<00:00,  5.57it/s]\n",
      "Epoch:   2%|▏         | 2/100 [00:00<00:08, 11.40it/s]"
     ]
    },
    {
     "name": "stdout",
     "output_type": "stream",
     "text": [
      "Iteration No: 5 ended. Evaluation done at random point.\n",
      "Time taken: 20.8804\n",
      "Function value obtained: -0.0328\n",
      "Current minimum: -0.0426\n",
      "Iteration No: 6 started. Evaluating function at random point.\n"
     ]
    },
    {
     "name": "stderr",
     "output_type": "stream",
     "text": [
      "Epoch: 100%|██████████| 100/100 [00:09<00:00, 10.33it/s]\n",
      "Epoch:   1%|          | 2/186 [00:00<00:16, 11.03it/s]"
     ]
    },
    {
     "name": "stdout",
     "output_type": "stream",
     "text": [
      "Iteration No: 6 ended. Evaluation done at random point.\n",
      "Time taken: 9.7056\n",
      "Function value obtained: -0.0016\n",
      "Current minimum: -0.0426\n",
      "Iteration No: 7 started. Evaluating function at random point.\n"
     ]
    },
    {
     "name": "stderr",
     "output_type": "stream",
     "text": [
      "Epoch: 100%|██████████| 186/186 [00:23<00:00,  7.86it/s]\n",
      "Epoch:   0%|          | 0/152 [00:00<?, ?it/s]"
     ]
    },
    {
     "name": "stdout",
     "output_type": "stream",
     "text": [
      "Iteration No: 7 ended. Evaluation done at random point.\n",
      "Time taken: 23.6900\n",
      "Function value obtained: -0.0016\n",
      "Current minimum: -0.0426\n",
      "Iteration No: 8 started. Evaluating function at random point.\n"
     ]
    },
    {
     "name": "stderr",
     "output_type": "stream",
     "text": [
      "Epoch: 100%|██████████| 152/152 [00:28<00:00,  5.33it/s]\n",
      "Epoch:   1%|          | 1/129 [00:00<00:14,  8.57it/s]"
     ]
    },
    {
     "name": "stdout",
     "output_type": "stream",
     "text": [
      "Iteration No: 8 ended. Evaluation done at random point.\n",
      "Time taken: 28.5447\n",
      "Function value obtained: -0.0311\n",
      "Current minimum: -0.0426\n",
      "Iteration No: 9 started. Evaluating function at random point.\n"
     ]
    },
    {
     "name": "stderr",
     "output_type": "stream",
     "text": [
      "Epoch: 100%|██████████| 129/129 [00:14<00:00,  8.89it/s]\n",
      "Epoch:   0%|          | 0/245 [00:00<?, ?it/s]"
     ]
    },
    {
     "name": "stdout",
     "output_type": "stream",
     "text": [
      "Iteration No: 9 ended. Evaluation done at random point.\n",
      "Time taken: 14.5367\n",
      "Function value obtained: -0.0328\n",
      "Current minimum: -0.0426\n",
      "Iteration No: 10 started. Evaluating function at random point.\n"
     ]
    },
    {
     "name": "stderr",
     "output_type": "stream",
     "text": [
      "Epoch: 100%|██████████| 245/245 [00:47<00:00,  5.12it/s]\n",
      "Epoch:   9%|▊         | 2/23 [00:00<00:01, 16.63it/s]"
     ]
    },
    {
     "name": "stdout",
     "output_type": "stream",
     "text": [
      "Iteration No: 10 ended. Evaluation done at random point.\n",
      "Time taken: 47.9560\n",
      "Function value obtained: -0.0295\n",
      "Current minimum: -0.0426\n",
      "Iteration No: 11 started. Searching for the next optimal point.\n"
     ]
    },
    {
     "name": "stderr",
     "output_type": "stream",
     "text": [
      "Epoch: 100%|██████████| 23/23 [00:01<00:00, 16.70it/s]\n",
      "Epoch:   5%|▌         | 2/38 [00:00<00:03, 11.13it/s]"
     ]
    },
    {
     "name": "stdout",
     "output_type": "stream",
     "text": [
      "Iteration No: 11 ended. Search finished for the next optimal point.\n",
      "Time taken: 1.5575\n",
      "Function value obtained: -0.0410\n",
      "Current minimum: -0.0426\n",
      "Iteration No: 12 started. Searching for the next optimal point.\n"
     ]
    },
    {
     "name": "stderr",
     "output_type": "stream",
     "text": [
      "Epoch: 100%|██████████| 38/38 [00:02<00:00, 12.70it/s]\n",
      "Epoch:   8%|▊         | 2/24 [00:00<00:01, 17.35it/s]"
     ]
    },
    {
     "name": "stdout",
     "output_type": "stream",
     "text": [
      "Iteration No: 12 ended. Search finished for the next optimal point.\n",
      "Time taken: 3.1247\n",
      "Function value obtained: -0.0328\n",
      "Current minimum: -0.0426\n",
      "Iteration No: 13 started. Searching for the next optimal point.\n"
     ]
    },
    {
     "name": "stderr",
     "output_type": "stream",
     "text": [
      "Epoch: 100%|██████████| 24/24 [00:01<00:00, 17.63it/s]\n",
      "Epoch:  10%|█         | 2/20 [00:00<00:01, 11.97it/s]"
     ]
    },
    {
     "name": "stdout",
     "output_type": "stream",
     "text": [
      "Iteration No: 13 ended. Search finished for the next optimal point.\n",
      "Time taken: 1.4908\n",
      "Function value obtained: -0.0410\n",
      "Current minimum: -0.0426\n",
      "Iteration No: 14 started. Searching for the next optimal point.\n"
     ]
    },
    {
     "name": "stderr",
     "output_type": "stream",
     "text": [
      "Epoch: 100%|██████████| 20/20 [00:01<00:00, 12.87it/s]\n",
      "Epoch:   9%|▊         | 2/23 [00:00<00:01, 15.61it/s]"
     ]
    },
    {
     "name": "stdout",
     "output_type": "stream",
     "text": [
      "Iteration No: 14 ended. Search finished for the next optimal point.\n",
      "Time taken: 1.6904\n",
      "Function value obtained: -0.0033\n",
      "Current minimum: -0.0426\n",
      "Iteration No: 15 started. Searching for the next optimal point.\n"
     ]
    },
    {
     "name": "stderr",
     "output_type": "stream",
     "text": [
      "Epoch: 100%|██████████| 23/23 [00:01<00:00, 16.52it/s]\n",
      "Epoch: 100%|██████████| 1/1 [00:00<00:00, 12.65it/s]"
     ]
    },
    {
     "name": "stdout",
     "output_type": "stream",
     "text": [
      "Iteration No: 15 ended. Search finished for the next optimal point.\n",
      "Time taken: 1.5259\n",
      "Function value obtained: -0.0295\n",
      "Current minimum: -0.0426\n",
      "Iteration No: 16 started. Searching for the next optimal point.\n"
     ]
    },
    {
     "name": "stderr",
     "output_type": "stream",
     "text": [
      "\n",
      "Epoch:   6%|▌         | 2/36 [00:00<00:02, 16.23it/s]"
     ]
    },
    {
     "name": "stdout",
     "output_type": "stream",
     "text": [
      "Iteration No: 16 ended. Search finished for the next optimal point.\n",
      "Time taken: 0.2145\n",
      "Function value obtained: -0.0279\n",
      "Current minimum: -0.0426\n",
      "Iteration No: 17 started. Searching for the next optimal point.\n"
     ]
    },
    {
     "name": "stderr",
     "output_type": "stream",
     "text": [
      "Epoch: 100%|██████████| 36/36 [00:02<00:00, 17.85it/s]\n",
      "Epoch:  50%|█████     | 2/4 [00:00<00:00, 16.60it/s]"
     ]
    },
    {
     "name": "stdout",
     "output_type": "stream",
     "text": [
      "Iteration No: 17 ended. Search finished for the next optimal point.\n",
      "Time taken: 2.1489\n",
      "Function value obtained: -0.0328\n",
      "Current minimum: -0.0426\n",
      "Iteration No: 18 started. Searching for the next optimal point.\n"
     ]
    },
    {
     "name": "stderr",
     "output_type": "stream",
     "text": [
      "Epoch: 100%|██████████| 4/4 [00:00<00:00, 16.44it/s]\n",
      "Epoch: 100%|██████████| 1/1 [00:00<00:00, 15.67it/s]"
     ]
    },
    {
     "name": "stdout",
     "output_type": "stream",
     "text": [
      "Iteration No: 18 ended. Search finished for the next optimal point.\n",
      "Time taken: 0.3841\n",
      "Function value obtained: -0.0016\n",
      "Current minimum: -0.0426\n",
      "Iteration No: 19 started. Searching for the next optimal point.\n",
      "Iteration No: 19 ended. Search finished for the next optimal point.\n",
      "Time taken: 0.1986\n",
      "Function value obtained: -0.0361\n",
      "Current minimum: -0.0426\n",
      "Iteration No: 20 started. Searching for the next optimal point.\n"
     ]
    },
    {
     "name": "stderr",
     "output_type": "stream",
     "text": [
      "\n",
      "Epoch: 100%|██████████| 27/27 [00:01<00:00, 18.89it/s]\n",
      "Epoch:  12%|█▏        | 2/17 [00:00<00:00, 18.23it/s]"
     ]
    },
    {
     "name": "stdout",
     "output_type": "stream",
     "text": [
      "Iteration No: 20 ended. Search finished for the next optimal point.\n",
      "Time taken: 1.5637\n",
      "Function value obtained: -0.0311\n",
      "Current minimum: -0.0426\n",
      "Iteration No: 21 started. Searching for the next optimal point.\n"
     ]
    },
    {
     "name": "stderr",
     "output_type": "stream",
     "text": [
      "Epoch: 100%|██████████| 17/17 [00:00<00:00, 18.46it/s]\n",
      "Epoch:  14%|█▍        | 2/14 [00:00<00:01, 10.59it/s]"
     ]
    },
    {
     "name": "stdout",
     "output_type": "stream",
     "text": [
      "Iteration No: 21 ended. Search finished for the next optimal point.\n",
      "Time taken: 1.0851\n",
      "Function value obtained: -0.0230\n",
      "Current minimum: -0.0426\n",
      "Iteration No: 22 started. Searching for the next optimal point.\n"
     ]
    },
    {
     "name": "stderr",
     "output_type": "stream",
     "text": [
      "Epoch: 100%|██████████| 14/14 [00:01<00:00, 12.10it/s]\n",
      "Epoch:   4%|▍         | 2/45 [00:00<00:02, 17.97it/s]"
     ]
    },
    {
     "name": "stdout",
     "output_type": "stream",
     "text": [
      "Iteration No: 22 ended. Search finished for the next optimal point.\n",
      "Time taken: 1.2966\n",
      "Function value obtained: -0.0197\n",
      "Current minimum: -0.0426\n",
      "Iteration No: 23 started. Searching for the next optimal point.\n"
     ]
    },
    {
     "name": "stderr",
     "output_type": "stream",
     "text": [
      "Epoch: 100%|██████████| 45/45 [00:02<00:00, 18.22it/s]\n",
      "Epoch:  22%|██▏       | 2/9 [00:00<00:00, 17.51it/s]"
     ]
    },
    {
     "name": "stdout",
     "output_type": "stream",
     "text": [
      "Iteration No: 23 ended. Search finished for the next optimal point.\n",
      "Time taken: 2.6068\n",
      "Function value obtained: -0.0328\n",
      "Current minimum: -0.0426\n",
      "Iteration No: 24 started. Searching for the next optimal point.\n"
     ]
    },
    {
     "name": "stderr",
     "output_type": "stream",
     "text": [
      "Epoch: 100%|██████████| 9/9 [00:00<00:00, 17.94it/s]\n",
      "Epoch:   2%|▏         | 1/56 [00:00<00:05,  9.65it/s]"
     ]
    },
    {
     "name": "stdout",
     "output_type": "stream",
     "text": [
      "Iteration No: 24 ended. Search finished for the next optimal point.\n",
      "Time taken: 0.6411\n",
      "Function value obtained: -0.0328\n",
      "Current minimum: -0.0426\n",
      "Iteration No: 25 started. Searching for the next optimal point.\n"
     ]
    },
    {
     "name": "stderr",
     "output_type": "stream",
     "text": [
      "Epoch: 100%|██████████| 56/56 [00:05<00:00,  9.86it/s]\n",
      "Epoch:  18%|█▊        | 2/11 [00:00<00:00, 16.25it/s]"
     ]
    },
    {
     "name": "stdout",
     "output_type": "stream",
     "text": [
      "Iteration No: 25 ended. Search finished for the next optimal point.\n",
      "Time taken: 5.8243\n",
      "Function value obtained: -0.0016\n",
      "Current minimum: -0.0426\n",
      "Iteration No: 26 started. Searching for the next optimal point.\n"
     ]
    },
    {
     "name": "stderr",
     "output_type": "stream",
     "text": [
      "Epoch: 100%|██████████| 11/11 [00:00<00:00, 16.45it/s]\n",
      "Epoch:   9%|▊         | 2/23 [00:00<00:01, 11.22it/s]"
     ]
    },
    {
     "name": "stdout",
     "output_type": "stream",
     "text": [
      "Iteration No: 26 ended. Search finished for the next optimal point.\n",
      "Time taken: 0.8135\n",
      "Function value obtained: -0.0328\n",
      "Current minimum: -0.0426\n",
      "Iteration No: 27 started. Searching for the next optimal point.\n"
     ]
    },
    {
     "name": "stderr",
     "output_type": "stream",
     "text": [
      "Epoch: 100%|██████████| 23/23 [00:02<00:00, 11.02it/s]\n",
      "Epoch:  10%|▉         | 2/21 [00:00<00:01, 10.17it/s]"
     ]
    },
    {
     "name": "stdout",
     "output_type": "stream",
     "text": [
      "Iteration No: 27 ended. Search finished for the next optimal point.\n",
      "Time taken: 2.2299\n",
      "Function value obtained: -0.0410\n",
      "Current minimum: -0.0426\n",
      "Iteration No: 28 started. Searching for the next optimal point.\n"
     ]
    },
    {
     "name": "stderr",
     "output_type": "stream",
     "text": [
      "Epoch: 100%|██████████| 21/21 [00:02<00:00,  9.91it/s]\n",
      "Epoch:   4%|▍         | 2/48 [00:00<00:04, 10.18it/s]"
     ]
    },
    {
     "name": "stdout",
     "output_type": "stream",
     "text": [
      "Iteration No: 28 ended. Search finished for the next optimal point.\n",
      "Time taken: 2.2673\n",
      "Function value obtained: -0.0328\n",
      "Current minimum: -0.0426\n",
      "Iteration No: 29 started. Searching for the next optimal point.\n"
     ]
    },
    {
     "name": "stderr",
     "output_type": "stream",
     "text": [
      "Epoch: 100%|██████████| 48/48 [00:04<00:00, 10.24it/s]\n",
      "Epoch:   0%|          | 0/51 [00:00<?, ?it/s]"
     ]
    },
    {
     "name": "stdout",
     "output_type": "stream",
     "text": [
      "Iteration No: 29 ended. Search finished for the next optimal point.\n",
      "Time taken: 4.8339\n",
      "Function value obtained: -0.0361\n",
      "Current minimum: -0.0426\n",
      "Iteration No: 30 started. Searching for the next optimal point.\n"
     ]
    },
    {
     "name": "stderr",
     "output_type": "stream",
     "text": [
      "Epoch: 100%|██████████| 51/51 [00:05<00:00,  9.41it/s]\n",
      "Epoch:   8%|▊         | 2/26 [00:00<00:02, 10.39it/s]"
     ]
    },
    {
     "name": "stdout",
     "output_type": "stream",
     "text": [
      "Iteration No: 30 ended. Search finished for the next optimal point.\n",
      "Time taken: 5.5967\n",
      "Function value obtained: -0.0328\n",
      "Current minimum: -0.0426\n",
      "Iteration No: 31 started. Searching for the next optimal point.\n"
     ]
    },
    {
     "name": "stderr",
     "output_type": "stream",
     "text": [
      "Epoch: 100%|██████████| 26/26 [00:02<00:00, 10.50it/s]\n",
      "Epoch:   3%|▎         | 2/73 [00:00<00:06, 11.36it/s]"
     ]
    },
    {
     "name": "stdout",
     "output_type": "stream",
     "text": [
      "Iteration No: 31 ended. Search finished for the next optimal point.\n",
      "Time taken: 2.6220\n",
      "Function value obtained: -0.0328\n",
      "Current minimum: -0.0426\n",
      "Iteration No: 32 started. Searching for the next optimal point.\n"
     ]
    },
    {
     "name": "stderr",
     "output_type": "stream",
     "text": [
      "Epoch: 100%|██████████| 73/73 [00:06<00:00, 11.10it/s]\n",
      "Epoch:   3%|▎         | 2/58 [00:00<00:05, 10.66it/s]"
     ]
    },
    {
     "name": "stdout",
     "output_type": "stream",
     "text": [
      "Iteration No: 32 ended. Search finished for the next optimal point.\n",
      "Time taken: 6.7238\n",
      "Function value obtained: -0.0328\n",
      "Current minimum: -0.0426\n",
      "Iteration No: 33 started. Searching for the next optimal point.\n"
     ]
    },
    {
     "name": "stderr",
     "output_type": "stream",
     "text": [
      "Epoch: 100%|██████████| 58/58 [00:05<00:00, 10.58it/s]\n",
      "Epoch:   2%|▏         | 2/84 [00:00<00:07, 11.71it/s]"
     ]
    },
    {
     "name": "stdout",
     "output_type": "stream",
     "text": [
      "Iteration No: 33 ended. Search finished for the next optimal point.\n",
      "Time taken: 5.6380\n",
      "Function value obtained: -0.0016\n",
      "Current minimum: -0.0426\n",
      "Iteration No: 34 started. Searching for the next optimal point.\n"
     ]
    },
    {
     "name": "stderr",
     "output_type": "stream",
     "text": [
      "Epoch: 100%|██████████| 84/84 [00:07<00:00, 11.54it/s]\n",
      "Epoch:   9%|▊         | 2/23 [00:00<00:01, 11.92it/s]"
     ]
    },
    {
     "name": "stdout",
     "output_type": "stream",
     "text": [
      "Iteration No: 34 ended. Search finished for the next optimal point.\n",
      "Time taken: 7.4251\n",
      "Function value obtained: -0.0344\n",
      "Current minimum: -0.0426\n",
      "Iteration No: 35 started. Searching for the next optimal point.\n"
     ]
    },
    {
     "name": "stderr",
     "output_type": "stream",
     "text": [
      "Epoch: 100%|██████████| 23/23 [00:02<00:00,  9.23it/s]\n",
      "Epoch:   0%|          | 1/212 [00:00<00:24,  8.49it/s]"
     ]
    },
    {
     "name": "stdout",
     "output_type": "stream",
     "text": [
      "Iteration No: 35 ended. Search finished for the next optimal point.\n",
      "Time taken: 2.7587\n",
      "Function value obtained: -0.0115\n",
      "Current minimum: -0.0426\n",
      "Iteration No: 36 started. Searching for the next optimal point.\n"
     ]
    },
    {
     "name": "stderr",
     "output_type": "stream",
     "text": [
      "Epoch: 100%|██████████| 212/212 [00:15<00:00, 13.60it/s]\n",
      "Epoch:   1%|          | 2/195 [00:00<00:14, 13.66it/s]"
     ]
    },
    {
     "name": "stdout",
     "output_type": "stream",
     "text": [
      "Iteration No: 36 ended. Search finished for the next optimal point.\n",
      "Time taken: 15.7400\n",
      "Function value obtained: -0.0426\n",
      "Current minimum: -0.0426\n",
      "Iteration No: 37 started. Searching for the next optimal point.\n"
     ]
    },
    {
     "name": "stderr",
     "output_type": "stream",
     "text": [
      "Epoch: 100%|██████████| 195/195 [00:16<00:00, 12.18it/s]\n",
      "Epoch:   1%|          | 2/209 [00:00<00:12, 16.41it/s]"
     ]
    },
    {
     "name": "stdout",
     "output_type": "stream",
     "text": [
      "Iteration No: 37 ended. Search finished for the next optimal point.\n",
      "Time taken: 16.2577\n",
      "Function value obtained: -0.0328\n",
      "Current minimum: -0.0426\n",
      "Iteration No: 38 started. Searching for the next optimal point.\n"
     ]
    },
    {
     "name": "stderr",
     "output_type": "stream",
     "text": [
      "Epoch: 100%|██████████| 209/209 [00:13<00:00, 16.00it/s]\n",
      "Epoch:   1%|          | 2/224 [00:00<00:19, 11.22it/s]"
     ]
    },
    {
     "name": "stdout",
     "output_type": "stream",
     "text": [
      "Iteration No: 38 ended. Search finished for the next optimal point.\n",
      "Time taken: 13.2148\n",
      "Function value obtained: -0.0311\n",
      "Current minimum: -0.0426\n",
      "Iteration No: 39 started. Searching for the next optimal point.\n"
     ]
    },
    {
     "name": "stderr",
     "output_type": "stream",
     "text": [
      "Epoch: 100%|██████████| 224/224 [00:21<00:00, 10.63it/s]\n",
      "Epoch:   5%|▌         | 2/39 [00:00<00:03, 11.67it/s]"
     ]
    },
    {
     "name": "stdout",
     "output_type": "stream",
     "text": [
      "Iteration No: 39 ended. Search finished for the next optimal point.\n",
      "Time taken: 21.2642\n",
      "Function value obtained: -0.0328\n",
      "Current minimum: -0.0426\n",
      "Iteration No: 40 started. Searching for the next optimal point.\n"
     ]
    },
    {
     "name": "stderr",
     "output_type": "stream",
     "text": [
      "Epoch: 100%|██████████| 39/39 [00:03<00:00, 11.32it/s]\n",
      "Epoch:   4%|▍         | 2/51 [00:00<00:04, 11.26it/s]"
     ]
    },
    {
     "name": "stdout",
     "output_type": "stream",
     "text": [
      "Iteration No: 40 ended. Search finished for the next optimal point.\n",
      "Time taken: 3.5978\n",
      "Function value obtained: -0.0377\n",
      "Current minimum: -0.0426\n",
      "Iteration No: 41 started. Searching for the next optimal point.\n"
     ]
    },
    {
     "name": "stderr",
     "output_type": "stream",
     "text": [
      "Epoch: 100%|██████████| 51/51 [00:04<00:00, 11.30it/s]\n",
      "Epoch: 100%|██████████| 2/2 [00:00<00:00, 10.79it/s]"
     ]
    },
    {
     "name": "stdout",
     "output_type": "stream",
     "text": [
      "Iteration No: 41 ended. Search finished for the next optimal point.\n",
      "Time taken: 4.6681\n",
      "Function value obtained: -0.0344\n",
      "Current minimum: -0.0426\n",
      "Iteration No: 42 started. Searching for the next optimal point.\n"
     ]
    },
    {
     "name": "stderr",
     "output_type": "stream",
     "text": [
      "\n",
      "Epoch:   1%|          | 2/208 [00:00<00:12, 17.06it/s]"
     ]
    },
    {
     "name": "stdout",
     "output_type": "stream",
     "text": [
      "Iteration No: 42 ended. Search finished for the next optimal point.\n",
      "Time taken: 0.3443\n",
      "Function value obtained: -0.0197\n",
      "Current minimum: -0.0426\n",
      "Iteration No: 43 started. Searching for the next optimal point.\n"
     ]
    },
    {
     "name": "stderr",
     "output_type": "stream",
     "text": [
      "Epoch: 100%|██████████| 208/208 [00:11<00:00, 17.81it/s]\n",
      "Epoch:   1%|          | 2/220 [00:00<00:12, 18.05it/s]"
     ]
    },
    {
     "name": "stdout",
     "output_type": "stream",
     "text": [
      "Iteration No: 43 ended. Search finished for the next optimal point.\n",
      "Time taken: 11.8322\n",
      "Function value obtained: -0.0328\n",
      "Current minimum: -0.0426\n",
      "Iteration No: 44 started. Searching for the next optimal point.\n"
     ]
    },
    {
     "name": "stderr",
     "output_type": "stream",
     "text": [
      "Epoch: 100%|██████████| 220/220 [00:12<00:00, 17.98it/s]\n",
      "Epoch:   1%|          | 2/226 [00:00<00:12, 17.33it/s]"
     ]
    },
    {
     "name": "stdout",
     "output_type": "stream",
     "text": [
      "Iteration No: 44 ended. Search finished for the next optimal point.\n",
      "Time taken: 12.3931\n",
      "Function value obtained: -0.0000\n",
      "Current minimum: -0.0426\n",
      "Iteration No: 45 started. Searching for the next optimal point.\n"
     ]
    },
    {
     "name": "stderr",
     "output_type": "stream",
     "text": [
      "Epoch: 100%|██████████| 226/226 [00:11<00:00, 18.86it/s]\n",
      "Epoch:   1%|          | 2/242 [00:00<00:13, 17.81it/s]"
     ]
    },
    {
     "name": "stdout",
     "output_type": "stream",
     "text": [
      "Iteration No: 45 ended. Search finished for the next optimal point.\n",
      "Time taken: 12.1369\n",
      "Function value obtained: -0.0344\n",
      "Current minimum: -0.0426\n",
      "Iteration No: 46 started. Searching for the next optimal point.\n"
     ]
    },
    {
     "name": "stderr",
     "output_type": "stream",
     "text": [
      "Epoch: 100%|██████████| 242/242 [00:12<00:00, 19.21it/s]\n",
      "Epoch:   1%|          | 2/242 [00:00<00:13, 18.24it/s]"
     ]
    },
    {
     "name": "stdout",
     "output_type": "stream",
     "text": [
      "Iteration No: 46 ended. Search finished for the next optimal point.\n",
      "Time taken: 12.7537\n",
      "Function value obtained: -0.0393\n",
      "Current minimum: -0.0426\n",
      "Iteration No: 47 started. Searching for the next optimal point.\n"
     ]
    },
    {
     "name": "stderr",
     "output_type": "stream",
     "text": [
      "Epoch: 100%|██████████| 242/242 [00:11<00:00, 20.66it/s]\n",
      "Epoch:   1%|          | 2/242 [00:00<00:14, 16.53it/s]"
     ]
    },
    {
     "name": "stdout",
     "output_type": "stream",
     "text": [
      "Iteration No: 47 ended. Search finished for the next optimal point.\n",
      "Time taken: 11.8679\n",
      "Function value obtained: -0.0295\n",
      "Current minimum: -0.0426\n",
      "Iteration No: 48 started. Searching for the next optimal point.\n"
     ]
    },
    {
     "name": "stderr",
     "output_type": "stream",
     "text": [
      "Epoch: 100%|██████████| 242/242 [00:13<00:00, 18.09it/s]\n",
      "Epoch:   3%|▎         | 2/67 [00:00<00:05, 12.01it/s]"
     ]
    },
    {
     "name": "stdout",
     "output_type": "stream",
     "text": [
      "Iteration No: 48 ended. Search finished for the next optimal point.\n",
      "Time taken: 13.5668\n",
      "Function value obtained: -0.0197\n",
      "Current minimum: -0.0426\n",
      "Iteration No: 49 started. Searching for the next optimal point.\n"
     ]
    },
    {
     "name": "stderr",
     "output_type": "stream",
     "text": [
      "Epoch: 100%|██████████| 67/67 [00:05<00:00, 12.26it/s]\n",
      "Epoch:   1%|▏         | 1/78 [00:00<00:09,  8.15it/s]"
     ]
    },
    {
     "name": "stdout",
     "output_type": "stream",
     "text": [
      "Iteration No: 49 ended. Search finished for the next optimal point.\n",
      "Time taken: 5.6215\n",
      "Function value obtained: -0.0426\n",
      "Current minimum: -0.0426\n",
      "Iteration No: 50 started. Searching for the next optimal point.\n"
     ]
    },
    {
     "name": "stderr",
     "output_type": "stream",
     "text": [
      "Epoch: 100%|██████████| 78/78 [00:07<00:00,  9.93it/s]\n",
      "Epoch:   1%|          | 2/180 [00:00<00:14, 12.18it/s]"
     ]
    },
    {
     "name": "stdout",
     "output_type": "stream",
     "text": [
      "Iteration No: 50 ended. Search finished for the next optimal point.\n",
      "Time taken: 8.0191\n",
      "Function value obtained: -0.0148\n",
      "Current minimum: -0.0426\n",
      "Iteration No: 51 started. Searching for the next optimal point.\n"
     ]
    },
    {
     "name": "stderr",
     "output_type": "stream",
     "text": [
      "Epoch: 100%|██████████| 180/180 [00:16<00:00, 11.08it/s]\n",
      "Epoch:   0%|          | 0/149 [00:00<?, ?it/s]"
     ]
    },
    {
     "name": "stdout",
     "output_type": "stream",
     "text": [
      "Iteration No: 51 ended. Search finished for the next optimal point.\n",
      "Time taken: 16.5203\n",
      "Function value obtained: -0.0525\n",
      "Current minimum: -0.0525\n",
      "Iteration No: 52 started. Searching for the next optimal point.\n"
     ]
    },
    {
     "name": "stderr",
     "output_type": "stream",
     "text": [
      "Epoch: 100%|██████████| 149/149 [00:15<00:00,  9.90it/s]\n",
      "Epoch:   1%|          | 2/203 [00:00<00:17, 11.63it/s]"
     ]
    },
    {
     "name": "stdout",
     "output_type": "stream",
     "text": [
      "Iteration No: 52 ended. Search finished for the next optimal point.\n",
      "Time taken: 15.2160\n",
      "Function value obtained: -0.0475\n",
      "Current minimum: -0.0525\n",
      "Iteration No: 53 started. Searching for the next optimal point.\n"
     ]
    },
    {
     "name": "stderr",
     "output_type": "stream",
     "text": [
      "Epoch: 100%|██████████| 203/203 [00:21<00:00,  9.33it/s]\n",
      "Epoch:   1%|          | 1/194 [00:00<00:23,  8.18it/s]"
     ]
    },
    {
     "name": "stdout",
     "output_type": "stream",
     "text": [
      "Iteration No: 53 ended. Search finished for the next optimal point.\n",
      "Time taken: 21.9200\n",
      "Function value obtained: -0.0049\n",
      "Current minimum: -0.0525\n",
      "Iteration No: 54 started. Searching for the next optimal point.\n"
     ]
    },
    {
     "name": "stderr",
     "output_type": "stream",
     "text": [
      "Epoch: 100%|██████████| 194/194 [00:26<00:00,  7.44it/s]\n",
      "Epoch:   1%|          | 2/167 [00:00<00:13, 12.27it/s]"
     ]
    },
    {
     "name": "stdout",
     "output_type": "stream",
     "text": [
      "Iteration No: 54 ended. Search finished for the next optimal point.\n",
      "Time taken: 26.2552\n",
      "Function value obtained: -0.0393\n",
      "Current minimum: -0.0525\n",
      "Iteration No: 55 started. Searching for the next optimal point.\n"
     ]
    },
    {
     "name": "stderr",
     "output_type": "stream",
     "text": [
      "Epoch: 100%|██████████| 167/167 [00:13<00:00, 12.55it/s]\n",
      "Epoch:   1%|          | 2/184 [00:00<00:14, 12.37it/s]"
     ]
    },
    {
     "name": "stdout",
     "output_type": "stream",
     "text": [
      "Iteration No: 55 ended. Search finished for the next optimal point.\n",
      "Time taken: 13.4682\n",
      "Function value obtained: -0.0410\n",
      "Current minimum: -0.0525\n",
      "Iteration No: 56 started. Searching for the next optimal point.\n"
     ]
    },
    {
     "name": "stderr",
     "output_type": "stream",
     "text": [
      "Epoch: 100%|██████████| 184/184 [00:14<00:00, 12.90it/s]\n",
      "Epoch:   1%|          | 2/161 [00:00<00:13, 11.73it/s]"
     ]
    },
    {
     "name": "stdout",
     "output_type": "stream",
     "text": [
      "Iteration No: 56 ended. Search finished for the next optimal point.\n",
      "Time taken: 14.4285\n",
      "Function value obtained: -0.0393\n",
      "Current minimum: -0.0525\n",
      "Iteration No: 57 started. Searching for the next optimal point.\n"
     ]
    },
    {
     "name": "stderr",
     "output_type": "stream",
     "text": [
      "Epoch: 100%|██████████| 161/161 [00:13<00:00, 11.79it/s]\n",
      "Epoch:   1%|▏         | 2/154 [00:00<00:13, 11.40it/s]"
     ]
    },
    {
     "name": "stdout",
     "output_type": "stream",
     "text": [
      "Iteration No: 57 ended. Search finished for the next optimal point.\n",
      "Time taken: 13.8460\n",
      "Function value obtained: -0.0361\n",
      "Current minimum: -0.0525\n",
      "Iteration No: 58 started. Searching for the next optimal point.\n"
     ]
    },
    {
     "name": "stderr",
     "output_type": "stream",
     "text": [
      "Epoch: 100%|██████████| 154/154 [00:13<00:00, 11.77it/s]\n",
      "Epoch:   1%|▏         | 2/157 [00:00<00:11, 13.52it/s]"
     ]
    },
    {
     "name": "stdout",
     "output_type": "stream",
     "text": [
      "Iteration No: 58 ended. Search finished for the next optimal point.\n",
      "Time taken: 13.2527\n",
      "Function value obtained: -0.0410\n",
      "Current minimum: -0.0525\n",
      "Iteration No: 59 started. Searching for the next optimal point.\n"
     ]
    },
    {
     "name": "stderr",
     "output_type": "stream",
     "text": [
      "Epoch: 100%|██████████| 157/157 [00:17<00:00,  8.96it/s]\n",
      "Epoch:   1%|          | 2/180 [00:00<00:16, 10.73it/s]"
     ]
    },
    {
     "name": "stdout",
     "output_type": "stream",
     "text": [
      "Iteration No: 59 ended. Search finished for the next optimal point.\n",
      "Time taken: 17.6882\n",
      "Function value obtained: -0.0016\n",
      "Current minimum: -0.0525\n",
      "Iteration No: 60 started. Searching for the next optimal point.\n"
     ]
    },
    {
     "name": "stderr",
     "output_type": "stream",
     "text": [
      "Epoch: 100%|██████████| 180/180 [00:17<00:00, 10.15it/s]\n",
      "Epoch:   0%|          | 0/180 [00:00<?, ?it/s]"
     ]
    },
    {
     "name": "stdout",
     "output_type": "stream",
     "text": [
      "Iteration No: 60 ended. Search finished for the next optimal point.\n",
      "Time taken: 17.8999\n",
      "Function value obtained: -0.0377\n",
      "Current minimum: -0.0525\n",
      "Iteration No: 61 started. Searching for the next optimal point.\n"
     ]
    },
    {
     "name": "stderr",
     "output_type": "stream",
     "text": [
      "Epoch: 100%|██████████| 180/180 [00:37<00:00,  4.85it/s]\n",
      "Epoch:   1%|          | 2/188 [00:00<00:15, 11.81it/s]"
     ]
    },
    {
     "name": "stdout",
     "output_type": "stream",
     "text": [
      "Iteration No: 61 ended. Search finished for the next optimal point.\n",
      "Time taken: 37.2889\n",
      "Function value obtained: -0.0098\n",
      "Current minimum: -0.0525\n",
      "Iteration No: 62 started. Searching for the next optimal point.\n"
     ]
    },
    {
     "name": "stderr",
     "output_type": "stream",
     "text": [
      "Epoch: 100%|██████████| 188/188 [00:19<00:00,  9.54it/s]\n",
      "Epoch:   1%|▏         | 2/150 [00:00<00:12, 12.32it/s]"
     ]
    },
    {
     "name": "stdout",
     "output_type": "stream",
     "text": [
      "Iteration No: 62 ended. Search finished for the next optimal point.\n",
      "Time taken: 19.8701\n",
      "Function value obtained: -0.0000\n",
      "Current minimum: -0.0525\n",
      "Iteration No: 63 started. Searching for the next optimal point.\n"
     ]
    },
    {
     "name": "stderr",
     "output_type": "stream",
     "text": [
      "Epoch: 100%|██████████| 150/150 [00:15<00:00,  9.93it/s]\n",
      "Epoch:   1%|          | 2/192 [00:00<00:15, 12.51it/s]"
     ]
    },
    {
     "name": "stdout",
     "output_type": "stream",
     "text": [
      "Iteration No: 63 ended. Search finished for the next optimal point.\n",
      "Time taken: 15.2684\n",
      "Function value obtained: -0.0279\n",
      "Current minimum: -0.0525\n",
      "Iteration No: 64 started. Searching for the next optimal point.\n"
     ]
    },
    {
     "name": "stderr",
     "output_type": "stream",
     "text": [
      "Epoch: 100%|██████████| 192/192 [00:20<00:00,  9.15it/s]\n",
      "Epoch:   0%|          | 0/176 [00:00<?, ?it/s]"
     ]
    },
    {
     "name": "stdout",
     "output_type": "stream",
     "text": [
      "Iteration No: 64 ended. Search finished for the next optimal point.\n",
      "Time taken: 21.1614\n",
      "Function value obtained: -0.0279\n",
      "Current minimum: -0.0525\n",
      "Iteration No: 65 started. Searching for the next optimal point.\n"
     ]
    },
    {
     "name": "stderr",
     "output_type": "stream",
     "text": [
      "Epoch: 100%|██████████| 176/176 [00:23<00:00,  7.61it/s]\n",
      "Epoch:   1%|          | 2/187 [00:00<00:15, 12.26it/s]"
     ]
    },
    {
     "name": "stdout",
     "output_type": "stream",
     "text": [
      "Iteration No: 65 ended. Search finished for the next optimal point.\n",
      "Time taken: 23.2895\n",
      "Function value obtained: -0.0148\n",
      "Current minimum: -0.0525\n",
      "Iteration No: 66 started. Searching for the next optimal point.\n"
     ]
    },
    {
     "name": "stderr",
     "output_type": "stream",
     "text": [
      "Epoch: 100%|██████████| 187/187 [00:11<00:00, 15.83it/s]\n",
      "Epoch:   1%|          | 2/177 [00:00<00:14, 11.84it/s]"
     ]
    },
    {
     "name": "stdout",
     "output_type": "stream",
     "text": [
      "Iteration No: 66 ended. Search finished for the next optimal point.\n",
      "Time taken: 12.0062\n",
      "Function value obtained: -0.0246\n",
      "Current minimum: -0.0525\n",
      "Iteration No: 67 started. Searching for the next optimal point.\n"
     ]
    },
    {
     "name": "stderr",
     "output_type": "stream",
     "text": [
      "Epoch: 100%|██████████| 177/177 [00:15<00:00, 11.76it/s]\n",
      "Epoch:   1%|          | 2/205 [00:00<00:17, 11.81it/s]"
     ]
    },
    {
     "name": "stdout",
     "output_type": "stream",
     "text": [
      "Iteration No: 67 ended. Search finished for the next optimal point.\n",
      "Time taken: 15.2188\n",
      "Function value obtained: -0.0377\n",
      "Current minimum: -0.0525\n",
      "Iteration No: 68 started. Searching for the next optimal point.\n"
     ]
    },
    {
     "name": "stderr",
     "output_type": "stream",
     "text": [
      "Epoch: 100%|██████████| 205/205 [00:18<00:00, 10.87it/s]\n",
      "Epoch:   1%|          | 1/187 [00:00<00:30,  6.17it/s]"
     ]
    },
    {
     "name": "stdout",
     "output_type": "stream",
     "text": [
      "Iteration No: 68 ended. Search finished for the next optimal point.\n",
      "Time taken: 19.1149\n",
      "Function value obtained: -0.0410\n",
      "Current minimum: -0.0525\n",
      "Iteration No: 69 started. Searching for the next optimal point.\n"
     ]
    },
    {
     "name": "stderr",
     "output_type": "stream",
     "text": [
      "Epoch: 100%|██████████| 187/187 [00:20<00:00,  9.17it/s]\n",
      "Epoch:   1%|          | 2/161 [00:00<00:13, 12.02it/s]"
     ]
    },
    {
     "name": "stdout",
     "output_type": "stream",
     "text": [
      "Iteration No: 69 ended. Search finished for the next optimal point.\n",
      "Time taken: 20.5936\n",
      "Function value obtained: -0.0410\n",
      "Current minimum: -0.0525\n",
      "Iteration No: 70 started. Searching for the next optimal point.\n"
     ]
    },
    {
     "name": "stderr",
     "output_type": "stream",
     "text": [
      "Epoch: 100%|██████████| 161/161 [00:14<00:00, 10.97it/s]\n",
      "Epoch:   1%|          | 2/165 [00:00<00:12, 13.32it/s]"
     ]
    },
    {
     "name": "stdout",
     "output_type": "stream",
     "text": [
      "Iteration No: 70 ended. Search finished for the next optimal point.\n",
      "Time taken: 14.8345\n",
      "Function value obtained: -0.0377\n",
      "Current minimum: -0.0525\n",
      "Iteration No: 71 started. Searching for the next optimal point.\n"
     ]
    },
    {
     "name": "stderr",
     "output_type": "stream",
     "text": [
      "Epoch: 100%|██████████| 165/165 [00:15<00:00, 10.50it/s]\n",
      "Epoch:   1%|          | 2/171 [00:00<00:14, 11.48it/s]"
     ]
    },
    {
     "name": "stdout",
     "output_type": "stream",
     "text": [
      "Iteration No: 71 ended. Search finished for the next optimal point.\n",
      "Time taken: 15.8864\n",
      "Function value obtained: -0.0361\n",
      "Current minimum: -0.0525\n",
      "Iteration No: 72 started. Searching for the next optimal point.\n"
     ]
    },
    {
     "name": "stderr",
     "output_type": "stream",
     "text": [
      "Epoch: 100%|██████████| 171/171 [00:14<00:00, 11.79it/s]\n",
      "Epoch:   1%|          | 2/171 [00:00<00:15, 10.95it/s]"
     ]
    },
    {
     "name": "stdout",
     "output_type": "stream",
     "text": [
      "Iteration No: 72 ended. Search finished for the next optimal point.\n",
      "Time taken: 14.6810\n",
      "Function value obtained: -0.0016\n",
      "Current minimum: -0.0525\n",
      "Iteration No: 73 started. Searching for the next optimal point.\n"
     ]
    },
    {
     "name": "stderr",
     "output_type": "stream",
     "text": [
      "Epoch: 100%|██████████| 171/171 [00:16<00:00, 10.48it/s]\n",
      "Epoch:   2%|▏         | 2/129 [00:00<00:10, 11.91it/s]"
     ]
    },
    {
     "name": "stdout",
     "output_type": "stream",
     "text": [
      "Iteration No: 73 ended. Search finished for the next optimal point.\n",
      "Time taken: 16.4882\n",
      "Function value obtained: -0.0000\n",
      "Current minimum: -0.0525\n",
      "Iteration No: 74 started. Searching for the next optimal point.\n"
     ]
    },
    {
     "name": "stderr",
     "output_type": "stream",
     "text": [
      "Epoch: 100%|██████████| 129/129 [00:10<00:00, 12.11it/s]\n",
      "Epoch:   1%|▏         | 2/147 [00:00<00:11, 12.20it/s]"
     ]
    },
    {
     "name": "stdout",
     "output_type": "stream",
     "text": [
      "Iteration No: 74 ended. Search finished for the next optimal point.\n",
      "Time taken: 10.8200\n",
      "Function value obtained: -0.0000\n",
      "Current minimum: -0.0525\n",
      "Iteration No: 75 started. Searching for the next optimal point.\n"
     ]
    },
    {
     "name": "stderr",
     "output_type": "stream",
     "text": [
      "Epoch: 100%|██████████| 147/147 [00:12<00:00, 11.87it/s]\n",
      "Epoch:   1%|          | 1/175 [00:00<00:19,  8.85it/s]"
     ]
    },
    {
     "name": "stdout",
     "output_type": "stream",
     "text": [
      "Iteration No: 75 ended. Search finished for the next optimal point.\n",
      "Time taken: 12.5824\n",
      "Function value obtained: -0.0311\n",
      "Current minimum: -0.0525\n",
      "Iteration No: 76 started. Searching for the next optimal point.\n"
     ]
    },
    {
     "name": "stderr",
     "output_type": "stream",
     "text": [
      "Epoch: 100%|██████████| 175/175 [00:17<00:00,  9.95it/s]\n",
      "Epoch:   2%|▏         | 2/107 [00:00<00:08, 12.10it/s]"
     ]
    },
    {
     "name": "stdout",
     "output_type": "stream",
     "text": [
      "Iteration No: 76 ended. Search finished for the next optimal point.\n",
      "Time taken: 17.7564\n",
      "Function value obtained: -0.0213\n",
      "Current minimum: -0.0525\n",
      "Iteration No: 77 started. Searching for the next optimal point.\n"
     ]
    },
    {
     "name": "stderr",
     "output_type": "stream",
     "text": [
      "Epoch: 100%|██████████| 107/107 [00:08<00:00, 12.11it/s]\n",
      "Epoch:   2%|▏         | 2/81 [00:00<00:06, 11.45it/s]"
     ]
    },
    {
     "name": "stdout",
     "output_type": "stream",
     "text": [
      "Iteration No: 77 ended. Search finished for the next optimal point.\n",
      "Time taken: 9.0011\n",
      "Function value obtained: -0.0475\n",
      "Current minimum: -0.0525\n",
      "Iteration No: 78 started. Searching for the next optimal point.\n"
     ]
    },
    {
     "name": "stderr",
     "output_type": "stream",
     "text": [
      "Epoch: 100%|██████████| 81/81 [00:06<00:00, 11.91it/s]\n",
      "Epoch:   2%|▏         | 2/84 [00:00<00:06, 11.96it/s]"
     ]
    },
    {
     "name": "stdout",
     "output_type": "stream",
     "text": [
      "Iteration No: 78 ended. Search finished for the next optimal point.\n",
      "Time taken: 6.9719\n",
      "Function value obtained: -0.0361\n",
      "Current minimum: -0.0525\n",
      "Iteration No: 79 started. Searching for the next optimal point.\n"
     ]
    },
    {
     "name": "stderr",
     "output_type": "stream",
     "text": [
      "Epoch: 100%|██████████| 84/84 [00:06<00:00, 12.84it/s]\n",
      "Epoch:   1%|          | 2/172 [00:00<00:14, 12.10it/s]"
     ]
    },
    {
     "name": "stdout",
     "output_type": "stream",
     "text": [
      "Iteration No: 79 ended. Search finished for the next optimal point.\n",
      "Time taken: 6.7110\n",
      "Function value obtained: -0.0082\n",
      "Current minimum: -0.0525\n",
      "Iteration No: 80 started. Searching for the next optimal point.\n"
     ]
    },
    {
     "name": "stderr",
     "output_type": "stream",
     "text": [
      "Epoch: 100%|██████████| 172/172 [00:10<00:00, 15.86it/s]\n",
      "Epoch:   2%|▏         | 2/127 [00:00<00:10, 11.56it/s]"
     ]
    },
    {
     "name": "stdout",
     "output_type": "stream",
     "text": [
      "Iteration No: 80 ended. Search finished for the next optimal point.\n",
      "Time taken: 11.0104\n",
      "Function value obtained: -0.0230\n",
      "Current minimum: -0.0525\n",
      "Iteration No: 81 started. Searching for the next optimal point.\n"
     ]
    },
    {
     "name": "stderr",
     "output_type": "stream",
     "text": [
      "Epoch: 100%|██████████| 127/127 [00:10<00:00, 11.73it/s]\n",
      "Epoch:   1%|          | 2/175 [00:00<00:14, 11.63it/s]"
     ]
    },
    {
     "name": "stdout",
     "output_type": "stream",
     "text": [
      "Iteration No: 81 ended. Search finished for the next optimal point.\n",
      "Time taken: 11.0024\n",
      "Function value obtained: -0.0000\n",
      "Current minimum: -0.0525\n",
      "Iteration No: 82 started. Searching for the next optimal point.\n"
     ]
    },
    {
     "name": "stderr",
     "output_type": "stream",
     "text": [
      "Epoch: 100%|██████████| 175/175 [00:14<00:00, 11.82it/s]\n",
      "Epoch:   1%|▏         | 2/145 [00:00<00:11, 12.14it/s]"
     ]
    },
    {
     "name": "stdout",
     "output_type": "stream",
     "text": [
      "Iteration No: 82 ended. Search finished for the next optimal point.\n",
      "Time taken: 14.9735\n",
      "Function value obtained: -0.0295\n",
      "Current minimum: -0.0525\n",
      "Iteration No: 83 started. Searching for the next optimal point.\n"
     ]
    },
    {
     "name": "stderr",
     "output_type": "stream",
     "text": [
      "Epoch: 100%|██████████| 145/145 [00:11<00:00, 12.09it/s]\n",
      "Epoch:   2%|▏         | 2/98 [00:00<00:07, 13.36it/s]"
     ]
    },
    {
     "name": "stdout",
     "output_type": "stream",
     "text": [
      "Iteration No: 83 ended. Search finished for the next optimal point.\n",
      "Time taken: 12.1610\n",
      "Function value obtained: -0.0426\n",
      "Current minimum: -0.0525\n",
      "Iteration No: 84 started. Searching for the next optimal point.\n"
     ]
    },
    {
     "name": "stderr",
     "output_type": "stream",
     "text": [
      "Epoch: 100%|██████████| 98/98 [00:07<00:00, 13.75it/s]\n",
      "Epoch:   1%|          | 2/176 [00:00<00:14, 12.13it/s]"
     ]
    },
    {
     "name": "stdout",
     "output_type": "stream",
     "text": [
      "Iteration No: 84 ended. Search finished for the next optimal point.\n",
      "Time taken: 7.3277\n",
      "Function value obtained: -0.0443\n",
      "Current minimum: -0.0525\n",
      "Iteration No: 85 started. Searching for the next optimal point.\n"
     ]
    },
    {
     "name": "stderr",
     "output_type": "stream",
     "text": [
      "Epoch: 100%|██████████| 176/176 [00:13<00:00, 12.92it/s]\n",
      "Epoch:   2%|▏         | 2/113 [00:00<00:09, 11.30it/s]"
     ]
    },
    {
     "name": "stdout",
     "output_type": "stream",
     "text": [
      "Iteration No: 85 ended. Search finished for the next optimal point.\n",
      "Time taken: 13.7904\n",
      "Function value obtained: -0.0361\n",
      "Current minimum: -0.0525\n",
      "Iteration No: 86 started. Searching for the next optimal point.\n"
     ]
    },
    {
     "name": "stderr",
     "output_type": "stream",
     "text": [
      "Epoch: 100%|██████████| 113/113 [00:09<00:00, 11.33it/s]\n",
      "Epoch:   1%|          | 1/178 [00:00<00:18,  9.76it/s]"
     ]
    },
    {
     "name": "stdout",
     "output_type": "stream",
     "text": [
      "Iteration No: 86 ended. Search finished for the next optimal point.\n",
      "Time taken: 10.1417\n",
      "Function value obtained: -0.0361\n",
      "Current minimum: -0.0525\n",
      "Iteration No: 87 started. Searching for the next optimal point.\n"
     ]
    },
    {
     "name": "stderr",
     "output_type": "stream",
     "text": [
      "Epoch: 100%|██████████| 178/178 [00:18<00:00,  9.46it/s]\n",
      "Epoch:   0%|          | 1/238 [00:00<00:27,  8.75it/s]"
     ]
    },
    {
     "name": "stdout",
     "output_type": "stream",
     "text": [
      "Iteration No: 87 ended. Search finished for the next optimal point.\n",
      "Time taken: 18.9896\n",
      "Function value obtained: -0.0508\n",
      "Current minimum: -0.0525\n",
      "Iteration No: 88 started. Searching for the next optimal point.\n"
     ]
    },
    {
     "name": "stderr",
     "output_type": "stream",
     "text": [
      "Epoch: 100%|██████████| 238/238 [00:25<00:00,  9.35it/s]\n",
      "Epoch:   1%|          | 1/132 [00:00<00:13,  9.83it/s]"
     ]
    },
    {
     "name": "stdout",
     "output_type": "stream",
     "text": [
      "Iteration No: 88 ended. Search finished for the next optimal point.\n",
      "Time taken: 25.6173\n",
      "Function value obtained: -0.0311\n",
      "Current minimum: -0.0525\n",
      "Iteration No: 89 started. Searching for the next optimal point.\n"
     ]
    },
    {
     "name": "stderr",
     "output_type": "stream",
     "text": [
      "Epoch: 100%|██████████| 132/132 [00:13<00:00, 10.03it/s]\n",
      "Epoch:   2%|▏         | 2/112 [00:00<00:08, 13.00it/s]"
     ]
    },
    {
     "name": "stdout",
     "output_type": "stream",
     "text": [
      "Iteration No: 89 ended. Search finished for the next optimal point.\n",
      "Time taken: 13.3323\n",
      "Function value obtained: -0.0361\n",
      "Current minimum: -0.0525\n",
      "Iteration No: 90 started. Searching for the next optimal point.\n"
     ]
    },
    {
     "name": "stderr",
     "output_type": "stream",
     "text": [
      "Epoch: 100%|██████████| 112/112 [00:08<00:00, 13.02it/s]\n",
      "Epoch:   2%|▏         | 2/103 [00:00<00:07, 12.83it/s]"
     ]
    },
    {
     "name": "stdout",
     "output_type": "stream",
     "text": [
      "Iteration No: 90 ended. Search finished for the next optimal point.\n",
      "Time taken: 8.7753\n",
      "Function value obtained: -0.0377\n",
      "Current minimum: -0.0525\n",
      "Iteration No: 91 started. Searching for the next optimal point.\n"
     ]
    },
    {
     "name": "stderr",
     "output_type": "stream",
     "text": [
      "Epoch: 100%|██████████| 103/103 [00:08<00:00, 12.75it/s]\n",
      "Epoch:   1%|          | 1/176 [00:00<00:17,  9.90it/s]"
     ]
    },
    {
     "name": "stdout",
     "output_type": "stream",
     "text": [
      "Iteration No: 91 ended. Search finished for the next optimal point.\n",
      "Time taken: 8.2501\n",
      "Function value obtained: -0.0328\n",
      "Current minimum: -0.0525\n",
      "Iteration No: 92 started. Searching for the next optimal point.\n"
     ]
    },
    {
     "name": "stderr",
     "output_type": "stream",
     "text": [
      "Epoch: 100%|██████████| 176/176 [00:17<00:00,  9.99it/s]\n",
      "Epoch:   1%|          | 1/172 [00:00<00:19,  8.82it/s]"
     ]
    },
    {
     "name": "stdout",
     "output_type": "stream",
     "text": [
      "Iteration No: 92 ended. Search finished for the next optimal point.\n",
      "Time taken: 17.7914\n",
      "Function value obtained: -0.0443\n",
      "Current minimum: -0.0525\n",
      "Iteration No: 93 started. Searching for the next optimal point.\n"
     ]
    },
    {
     "name": "stderr",
     "output_type": "stream",
     "text": [
      "Epoch: 100%|██████████| 172/172 [00:18<00:00,  9.07it/s]\n",
      "Epoch:   0%|          | 0/174 [00:00<?, ?it/s]"
     ]
    },
    {
     "name": "stdout",
     "output_type": "stream",
     "text": [
      "Iteration No: 93 ended. Search finished for the next optimal point.\n",
      "Time taken: 19.1475\n",
      "Function value obtained: -0.0426\n",
      "Current minimum: -0.0525\n",
      "Iteration No: 94 started. Searching for the next optimal point.\n"
     ]
    },
    {
     "name": "stderr",
     "output_type": "stream",
     "text": [
      "Epoch: 100%|██████████| 174/174 [00:17<00:00,  9.97it/s]\n",
      "Epoch:   1%|          | 1/188 [00:00<00:20,  9.13it/s]"
     ]
    },
    {
     "name": "stdout",
     "output_type": "stream",
     "text": [
      "Iteration No: 94 ended. Search finished for the next optimal point.\n",
      "Time taken: 17.6625\n",
      "Function value obtained: -0.0443\n",
      "Current minimum: -0.0525\n",
      "Iteration No: 95 started. Searching for the next optimal point.\n"
     ]
    },
    {
     "name": "stderr",
     "output_type": "stream",
     "text": [
      "Epoch: 100%|██████████| 188/188 [00:19<00:00,  9.50it/s]\n",
      "Epoch:   2%|▏         | 2/121 [00:00<00:09, 12.42it/s]"
     ]
    },
    {
     "name": "stdout",
     "output_type": "stream",
     "text": [
      "Iteration No: 95 ended. Search finished for the next optimal point.\n",
      "Time taken: 19.9679\n",
      "Function value obtained: -0.0246\n",
      "Current minimum: -0.0525\n",
      "Iteration No: 96 started. Searching for the next optimal point.\n"
     ]
    },
    {
     "name": "stderr",
     "output_type": "stream",
     "text": [
      "Epoch: 100%|██████████| 121/121 [00:09<00:00, 12.12it/s]\n",
      "Epoch:   1%|          | 1/136 [00:00<00:18,  7.44it/s]"
     ]
    },
    {
     "name": "stdout",
     "output_type": "stream",
     "text": [
      "Iteration No: 96 ended. Search finished for the next optimal point.\n",
      "Time taken: 10.1606\n",
      "Function value obtained: -0.0410\n",
      "Current minimum: -0.0525\n",
      "Iteration No: 97 started. Searching for the next optimal point.\n"
     ]
    },
    {
     "name": "stderr",
     "output_type": "stream",
     "text": [
      "Epoch: 100%|██████████| 136/136 [00:19<00:00,  7.06it/s]\n",
      "Epoch:   1%|          | 1/164 [00:00<00:29,  5.53it/s]"
     ]
    },
    {
     "name": "stdout",
     "output_type": "stream",
     "text": [
      "Iteration No: 97 ended. Search finished for the next optimal point.\n",
      "Time taken: 19.4407\n",
      "Function value obtained: -0.0459\n",
      "Current minimum: -0.0525\n",
      "Iteration No: 98 started. Searching for the next optimal point.\n"
     ]
    },
    {
     "name": "stderr",
     "output_type": "stream",
     "text": [
      "Epoch: 100%|██████████| 164/164 [00:30<00:00,  5.30it/s]\n",
      "Epoch:   1%|          | 1/127 [00:00<00:14,  8.56it/s]"
     ]
    },
    {
     "name": "stdout",
     "output_type": "stream",
     "text": [
      "Iteration No: 98 ended. Search finished for the next optimal point.\n",
      "Time taken: 31.1420\n",
      "Function value obtained: -0.0393\n",
      "Current minimum: -0.0525\n",
      "Iteration No: 99 started. Searching for the next optimal point.\n"
     ]
    },
    {
     "name": "stderr",
     "output_type": "stream",
     "text": [
      "Epoch: 100%|██████████| 127/127 [00:15<00:00,  8.33it/s]\n",
      "Epoch:   1%|          | 1/126 [00:00<00:17,  7.18it/s]"
     ]
    },
    {
     "name": "stdout",
     "output_type": "stream",
     "text": [
      "Iteration No: 99 ended. Search finished for the next optimal point.\n",
      "Time taken: 15.4268\n",
      "Function value obtained: -0.0459\n",
      "Current minimum: -0.0525\n",
      "Iteration No: 100 started. Searching for the next optimal point.\n"
     ]
    },
    {
     "name": "stderr",
     "output_type": "stream",
     "text": [
      "Epoch: 100%|██████████| 126/126 [00:17<00:00,  7.21it/s]\n",
      "Epoch:   1%|          | 1/96 [00:00<00:12,  7.64it/s]"
     ]
    },
    {
     "name": "stdout",
     "output_type": "stream",
     "text": [
      "Iteration No: 100 ended. Search finished for the next optimal point.\n",
      "Time taken: 17.6498\n",
      "Function value obtained: -0.0443\n",
      "Current minimum: -0.0525\n",
      "Iteration No: 101 started. Searching for the next optimal point.\n"
     ]
    },
    {
     "name": "stderr",
     "output_type": "stream",
     "text": [
      "Epoch: 100%|██████████| 96/96 [00:12<00:00,  7.59it/s]\n",
      "Epoch:   1%|          | 1/133 [00:00<00:20,  6.51it/s]"
     ]
    },
    {
     "name": "stdout",
     "output_type": "stream",
     "text": [
      "Iteration No: 101 ended. Search finished for the next optimal point.\n",
      "Time taken: 12.8266\n",
      "Function value obtained: -0.0410\n",
      "Current minimum: -0.0525\n",
      "Iteration No: 102 started. Searching for the next optimal point.\n"
     ]
    },
    {
     "name": "stderr",
     "output_type": "stream",
     "text": [
      "Epoch: 100%|██████████| 133/133 [00:20<00:00,  6.62it/s]\n",
      "Epoch:   1%|          | 1/115 [00:00<00:18,  6.29it/s]"
     ]
    },
    {
     "name": "stdout",
     "output_type": "stream",
     "text": [
      "Iteration No: 102 ended. Search finished for the next optimal point.\n",
      "Time taken: 20.2954\n",
      "Function value obtained: -0.0016\n",
      "Current minimum: -0.0525\n",
      "Iteration No: 103 started. Searching for the next optimal point.\n"
     ]
    },
    {
     "name": "stderr",
     "output_type": "stream",
     "text": [
      "Epoch: 100%|██████████| 115/115 [00:19<00:00,  6.04it/s]\n",
      "Epoch:   1%|          | 1/154 [00:00<00:17,  8.59it/s]"
     ]
    },
    {
     "name": "stdout",
     "output_type": "stream",
     "text": [
      "Iteration No: 103 ended. Search finished for the next optimal point.\n",
      "Time taken: 19.2514\n",
      "Function value obtained: -0.0361\n",
      "Current minimum: -0.0525\n",
      "Iteration No: 104 started. Searching for the next optimal point.\n"
     ]
    },
    {
     "name": "stderr",
     "output_type": "stream",
     "text": [
      "Epoch: 100%|██████████| 154/154 [00:17<00:00,  9.03it/s]\n",
      "Epoch:   1%|          | 1/138 [00:00<00:21,  6.26it/s]"
     ]
    },
    {
     "name": "stdout",
     "output_type": "stream",
     "text": [
      "Iteration No: 104 ended. Search finished for the next optimal point.\n",
      "Time taken: 17.2322\n",
      "Function value obtained: -0.0344\n",
      "Current minimum: -0.0525\n",
      "Iteration No: 105 started. Searching for the next optimal point.\n"
     ]
    },
    {
     "name": "stderr",
     "output_type": "stream",
     "text": [
      "Epoch: 100%|██████████| 138/138 [00:20<00:00,  6.83it/s]\n",
      "Epoch:   1%|          | 1/128 [00:00<00:16,  7.77it/s]"
     ]
    },
    {
     "name": "stdout",
     "output_type": "stream",
     "text": [
      "Iteration No: 105 ended. Search finished for the next optimal point.\n",
      "Time taken: 20.3946\n",
      "Function value obtained: -0.0328\n",
      "Current minimum: -0.0525\n",
      "Iteration No: 106 started. Searching for the next optimal point.\n"
     ]
    },
    {
     "name": "stderr",
     "output_type": "stream",
     "text": [
      "Epoch: 100%|██████████| 128/128 [00:14<00:00,  8.54it/s]\n",
      "Epoch:   1%|          | 1/130 [00:00<00:17,  7.19it/s]"
     ]
    },
    {
     "name": "stdout",
     "output_type": "stream",
     "text": [
      "Iteration No: 106 ended. Search finished for the next optimal point.\n",
      "Time taken: 15.1735\n",
      "Function value obtained: -0.0033\n",
      "Current minimum: -0.0525\n",
      "Iteration No: 107 started. Searching for the next optimal point.\n"
     ]
    },
    {
     "name": "stderr",
     "output_type": "stream",
     "text": [
      "Epoch: 100%|██████████| 130/130 [00:17<00:00,  7.46it/s]\n",
      "Epoch:   1%|▏         | 2/137 [00:00<00:10, 13.33it/s]"
     ]
    },
    {
     "name": "stdout",
     "output_type": "stream",
     "text": [
      "Iteration No: 107 ended. Search finished for the next optimal point.\n",
      "Time taken: 17.6222\n",
      "Function value obtained: -0.0361\n",
      "Current minimum: -0.0525\n",
      "Iteration No: 108 started. Searching for the next optimal point.\n"
     ]
    },
    {
     "name": "stderr",
     "output_type": "stream",
     "text": [
      "Epoch: 100%|██████████| 137/137 [00:10<00:00, 13.36it/s]\n",
      "Epoch:   1%|          | 1/122 [00:00<00:18,  6.61it/s]"
     ]
    },
    {
     "name": "stdout",
     "output_type": "stream",
     "text": [
      "Iteration No: 108 ended. Search finished for the next optimal point.\n",
      "Time taken: 10.4334\n",
      "Function value obtained: -0.0328\n",
      "Current minimum: -0.0525\n",
      "Iteration No: 109 started. Searching for the next optimal point.\n"
     ]
    },
    {
     "name": "stderr",
     "output_type": "stream",
     "text": [
      "Epoch: 100%|██████████| 122/122 [00:17<00:00,  7.00it/s]\n",
      "Epoch:   1%|          | 1/140 [00:00<00:20,  6.71it/s]"
     ]
    },
    {
     "name": "stdout",
     "output_type": "stream",
     "text": [
      "Iteration No: 109 ended. Search finished for the next optimal point.\n",
      "Time taken: 17.6252\n",
      "Function value obtained: -0.0000\n",
      "Current minimum: -0.0525\n",
      "Iteration No: 110 started. Searching for the next optimal point.\n"
     ]
    },
    {
     "name": "stderr",
     "output_type": "stream",
     "text": [
      "Epoch: 100%|██████████| 140/140 [00:20<00:00,  6.78it/s]\n",
      "Epoch:   1%|          | 1/92 [00:00<00:12,  7.19it/s]"
     ]
    },
    {
     "name": "stdout",
     "output_type": "stream",
     "text": [
      "Iteration No: 110 ended. Search finished for the next optimal point.\n",
      "Time taken: 20.8345\n",
      "Function value obtained: -0.0295\n",
      "Current minimum: -0.0525\n",
      "Iteration No: 111 started. Searching for the next optimal point.\n"
     ]
    },
    {
     "name": "stderr",
     "output_type": "stream",
     "text": [
      "Epoch: 100%|██████████| 92/92 [00:12<00:00,  7.22it/s]\n",
      "Epoch:   1%|          | 1/116 [00:00<00:14,  7.95it/s]"
     ]
    },
    {
     "name": "stdout",
     "output_type": "stream",
     "text": [
      "Iteration No: 111 ended. Search finished for the next optimal point.\n",
      "Time taken: 12.9361\n",
      "Function value obtained: -0.0492\n",
      "Current minimum: -0.0525\n",
      "Iteration No: 112 started. Searching for the next optimal point.\n"
     ]
    },
    {
     "name": "stderr",
     "output_type": "stream",
     "text": [
      "Epoch: 100%|██████████| 116/116 [00:15<00:00,  7.66it/s]\n",
      "Epoch:   1%|          | 1/127 [00:00<00:19,  6.53it/s]"
     ]
    },
    {
     "name": "stdout",
     "output_type": "stream",
     "text": [
      "Iteration No: 112 ended. Search finished for the next optimal point.\n",
      "Time taken: 15.3661\n",
      "Function value obtained: -0.0311\n",
      "Current minimum: -0.0525\n",
      "Iteration No: 113 started. Searching for the next optimal point.\n"
     ]
    },
    {
     "name": "stderr",
     "output_type": "stream",
     "text": [
      "Epoch: 100%|██████████| 127/127 [00:19<00:00,  6.48it/s]\n",
      "Epoch:   1%|▏         | 1/80 [00:00<00:12,  6.22it/s]"
     ]
    },
    {
     "name": "stdout",
     "output_type": "stream",
     "text": [
      "Iteration No: 113 ended. Search finished for the next optimal point.\n",
      "Time taken: 19.7898\n",
      "Function value obtained: -0.0361\n",
      "Current minimum: -0.0525\n",
      "Iteration No: 114 started. Searching for the next optimal point.\n"
     ]
    },
    {
     "name": "stderr",
     "output_type": "stream",
     "text": [
      "Epoch: 100%|██████████| 80/80 [00:13<00:00,  6.11it/s]\n",
      "Epoch:   1%|          | 1/115 [00:00<00:16,  6.94it/s]"
     ]
    },
    {
     "name": "stdout",
     "output_type": "stream",
     "text": [
      "Iteration No: 114 ended. Search finished for the next optimal point.\n",
      "Time taken: 13.2917\n",
      "Function value obtained: -0.0426\n",
      "Current minimum: -0.0525\n",
      "Iteration No: 115 started. Searching for the next optimal point.\n"
     ]
    },
    {
     "name": "stderr",
     "output_type": "stream",
     "text": [
      "Epoch: 100%|██████████| 115/115 [00:15<00:00,  7.60it/s]\n",
      "Epoch:   1%|          | 1/139 [00:00<00:17,  7.71it/s]"
     ]
    },
    {
     "name": "stdout",
     "output_type": "stream",
     "text": [
      "Iteration No: 115 ended. Search finished for the next optimal point.\n",
      "Time taken: 15.3206\n",
      "Function value obtained: -0.0311\n",
      "Current minimum: -0.0525\n",
      "Iteration No: 116 started. Searching for the next optimal point.\n"
     ]
    },
    {
     "name": "stderr",
     "output_type": "stream",
     "text": [
      "Epoch: 100%|██████████| 139/139 [00:17<00:00,  7.80it/s]\n",
      "Epoch:   1%|          | 1/89 [00:00<00:13,  6.42it/s]"
     ]
    },
    {
     "name": "stdout",
     "output_type": "stream",
     "text": [
      "Iteration No: 116 ended. Search finished for the next optimal point.\n",
      "Time taken: 18.0091\n",
      "Function value obtained: -0.0410\n",
      "Current minimum: -0.0525\n",
      "Iteration No: 117 started. Searching for the next optimal point.\n"
     ]
    },
    {
     "name": "stderr",
     "output_type": "stream",
     "text": [
      "Epoch: 100%|██████████| 89/89 [00:13<00:00,  6.65it/s]\n",
      "Epoch:   1%|          | 1/125 [00:00<00:17,  7.29it/s]"
     ]
    },
    {
     "name": "stdout",
     "output_type": "stream",
     "text": [
      "Iteration No: 117 ended. Search finished for the next optimal point.\n",
      "Time taken: 13.5810\n",
      "Function value obtained: -0.0262\n",
      "Current minimum: -0.0525\n",
      "Iteration No: 118 started. Searching for the next optimal point.\n"
     ]
    },
    {
     "name": "stderr",
     "output_type": "stream",
     "text": [
      "Epoch: 100%|██████████| 125/125 [00:17<00:00,  7.24it/s]\n",
      "Epoch:   1%|          | 1/93 [00:00<00:13,  6.79it/s]"
     ]
    },
    {
     "name": "stdout",
     "output_type": "stream",
     "text": [
      "Iteration No: 118 ended. Search finished for the next optimal point.\n",
      "Time taken: 17.4578\n",
      "Function value obtained: -0.0443\n",
      "Current minimum: -0.0525\n",
      "Iteration No: 119 started. Searching for the next optimal point.\n"
     ]
    },
    {
     "name": "stderr",
     "output_type": "stream",
     "text": [
      "Epoch: 100%|██████████| 93/93 [00:12<00:00,  7.64it/s]\n",
      "Epoch:   1%|          | 1/97 [00:00<00:13,  7.20it/s]"
     ]
    },
    {
     "name": "stdout",
     "output_type": "stream",
     "text": [
      "Iteration No: 119 ended. Search finished for the next optimal point.\n",
      "Time taken: 12.3668\n",
      "Function value obtained: -0.0082\n",
      "Current minimum: -0.0525\n",
      "Iteration No: 120 started. Searching for the next optimal point.\n"
     ]
    },
    {
     "name": "stderr",
     "output_type": "stream",
     "text": [
      "Epoch: 100%|██████████| 97/97 [00:13<00:00,  7.21it/s]\n",
      "Epoch:   1%|          | 1/93 [00:00<00:12,  7.49it/s]"
     ]
    },
    {
     "name": "stdout",
     "output_type": "stream",
     "text": [
      "Iteration No: 120 ended. Search finished for the next optimal point.\n",
      "Time taken: 13.6491\n",
      "Function value obtained: -0.0426\n",
      "Current minimum: -0.0525\n",
      "Iteration No: 121 started. Searching for the next optimal point.\n"
     ]
    },
    {
     "name": "stderr",
     "output_type": "stream",
     "text": [
      "Epoch: 100%|██████████| 93/93 [00:12<00:00,  7.50it/s]\n",
      "Epoch:   1%|          | 1/188 [00:00<00:25,  7.39it/s]"
     ]
    },
    {
     "name": "stdout",
     "output_type": "stream",
     "text": [
      "Iteration No: 121 ended. Search finished for the next optimal point.\n",
      "Time taken: 12.5849\n",
      "Function value obtained: -0.0377\n",
      "Current minimum: -0.0525\n",
      "Iteration No: 122 started. Searching for the next optimal point.\n"
     ]
    },
    {
     "name": "stderr",
     "output_type": "stream",
     "text": [
      "Epoch: 100%|██████████| 188/188 [00:26<00:00,  7.17it/s]\n",
      "Epoch:   2%|▏         | 2/92 [00:00<00:08, 10.23it/s]"
     ]
    },
    {
     "name": "stdout",
     "output_type": "stream",
     "text": [
      "Iteration No: 122 ended. Search finished for the next optimal point.\n",
      "Time taken: 26.4341\n",
      "Function value obtained: -0.0459\n",
      "Current minimum: -0.0525\n",
      "Iteration No: 123 started. Searching for the next optimal point.\n"
     ]
    },
    {
     "name": "stderr",
     "output_type": "stream",
     "text": [
      "Epoch: 100%|██████████| 92/92 [00:08<00:00, 11.09it/s]\n",
      "Epoch:   1%|          | 2/164 [00:00<00:14, 11.03it/s]"
     ]
    },
    {
     "name": "stdout",
     "output_type": "stream",
     "text": [
      "Iteration No: 123 ended. Search finished for the next optimal point.\n",
      "Time taken: 8.4875\n",
      "Function value obtained: -0.0049\n",
      "Current minimum: -0.0525\n",
      "Iteration No: 124 started. Searching for the next optimal point.\n"
     ]
    },
    {
     "name": "stderr",
     "output_type": "stream",
     "text": [
      "Epoch: 100%|██████████| 164/164 [00:14<00:00, 11.21it/s]\n",
      "Epoch:   1%|          | 1/92 [00:00<00:09,  9.48it/s]"
     ]
    },
    {
     "name": "stdout",
     "output_type": "stream",
     "text": [
      "Iteration No: 124 ended. Search finished for the next optimal point.\n",
      "Time taken: 14.8169\n",
      "Function value obtained: -0.0443\n",
      "Current minimum: -0.0525\n",
      "Iteration No: 125 started. Searching for the next optimal point.\n"
     ]
    },
    {
     "name": "stderr",
     "output_type": "stream",
     "text": [
      "Epoch: 100%|██████████| 92/92 [00:10<00:00,  8.79it/s]\n",
      "Epoch:   1%|          | 1/110 [00:00<00:15,  7.07it/s]"
     ]
    },
    {
     "name": "stdout",
     "output_type": "stream",
     "text": [
      "Iteration No: 125 ended. Search finished for the next optimal point.\n",
      "Time taken: 10.8329\n",
      "Function value obtained: -0.0443\n",
      "Current minimum: -0.0525\n",
      "Iteration No: 126 started. Searching for the next optimal point.\n"
     ]
    },
    {
     "name": "stderr",
     "output_type": "stream",
     "text": [
      "Epoch: 100%|██████████| 110/110 [00:10<00:00, 10.36it/s]\n",
      "Epoch:   1%|          | 1/179 [00:00<00:23,  7.62it/s]"
     ]
    },
    {
     "name": "stdout",
     "output_type": "stream",
     "text": [
      "Iteration No: 126 ended. Search finished for the next optimal point.\n",
      "Time taken: 10.7966\n",
      "Function value obtained: -0.0197\n",
      "Current minimum: -0.0525\n",
      "Iteration No: 127 started. Searching for the next optimal point.\n"
     ]
    },
    {
     "name": "stderr",
     "output_type": "stream",
     "text": [
      "Epoch: 100%|██████████| 179/179 [00:24<00:00,  7.35it/s]\n",
      "Epoch:   2%|▏         | 1/62 [00:00<00:07,  8.15it/s]"
     ]
    },
    {
     "name": "stdout",
     "output_type": "stream",
     "text": [
      "Iteration No: 127 ended. Search finished for the next optimal point.\n",
      "Time taken: 24.5360\n",
      "Function value obtained: -0.0426\n",
      "Current minimum: -0.0525\n",
      "Iteration No: 128 started. Searching for the next optimal point.\n"
     ]
    },
    {
     "name": "stderr",
     "output_type": "stream",
     "text": [
      "Epoch: 100%|██████████| 62/62 [00:07<00:00,  7.80it/s]\n",
      "Epoch:   1%|          | 1/99 [00:00<00:13,  7.10it/s]"
     ]
    },
    {
     "name": "stdout",
     "output_type": "stream",
     "text": [
      "Iteration No: 128 ended. Search finished for the next optimal point.\n",
      "Time taken: 8.1427\n",
      "Function value obtained: -0.0377\n",
      "Current minimum: -0.0525\n",
      "Iteration No: 129 started. Searching for the next optimal point.\n"
     ]
    },
    {
     "name": "stderr",
     "output_type": "stream",
     "text": [
      "Epoch: 100%|██████████| 99/99 [00:13<00:00,  7.23it/s]\n",
      "Epoch:   1%|          | 1/118 [00:00<00:18,  6.27it/s]"
     ]
    },
    {
     "name": "stdout",
     "output_type": "stream",
     "text": [
      "Iteration No: 129 ended. Search finished for the next optimal point.\n",
      "Time taken: 13.8907\n",
      "Function value obtained: -0.0475\n",
      "Current minimum: -0.0525\n",
      "Iteration No: 130 started. Searching for the next optimal point.\n"
     ]
    },
    {
     "name": "stderr",
     "output_type": "stream",
     "text": [
      "Epoch: 100%|██████████| 118/118 [00:17<00:00,  6.69it/s]\n",
      "Epoch:   1%|▏         | 1/75 [00:00<00:10,  6.80it/s]"
     ]
    },
    {
     "name": "stdout",
     "output_type": "stream",
     "text": [
      "Iteration No: 130 ended. Search finished for the next optimal point.\n",
      "Time taken: 17.8284\n",
      "Function value obtained: -0.0377\n",
      "Current minimum: -0.0525\n",
      "Iteration No: 131 started. Searching for the next optimal point.\n"
     ]
    },
    {
     "name": "stderr",
     "output_type": "stream",
     "text": [
      "Epoch: 100%|██████████| 75/75 [00:11<00:00,  6.79it/s]\n",
      "Epoch:   1%|          | 1/176 [00:00<00:20,  8.40it/s]"
     ]
    },
    {
     "name": "stdout",
     "output_type": "stream",
     "text": [
      "Iteration No: 131 ended. Search finished for the next optimal point.\n",
      "Time taken: 11.2628\n",
      "Function value obtained: -0.0393\n",
      "Current minimum: -0.0525\n",
      "Iteration No: 132 started. Searching for the next optimal point.\n"
     ]
    },
    {
     "name": "stderr",
     "output_type": "stream",
     "text": [
      "Epoch: 100%|██████████| 176/176 [00:21<00:00,  8.13it/s]\n",
      "Epoch:   1%|▏         | 1/70 [00:00<00:09,  7.63it/s]"
     ]
    },
    {
     "name": "stdout",
     "output_type": "stream",
     "text": [
      "Iteration No: 132 ended. Search finished for the next optimal point.\n",
      "Time taken: 21.8322\n",
      "Function value obtained: -0.0393\n",
      "Current minimum: -0.0525\n",
      "Iteration No: 133 started. Searching for the next optimal point.\n"
     ]
    },
    {
     "name": "stderr",
     "output_type": "stream",
     "text": [
      "Epoch: 100%|██████████| 70/70 [00:09<00:00,  7.68it/s]\n",
      "Epoch:   1%|          | 1/176 [00:00<00:31,  5.56it/s]"
     ]
    },
    {
     "name": "stdout",
     "output_type": "stream",
     "text": [
      "Iteration No: 133 ended. Search finished for the next optimal point.\n",
      "Time taken: 9.3023\n",
      "Function value obtained: -0.0410\n",
      "Current minimum: -0.0525\n",
      "Iteration No: 134 started. Searching for the next optimal point.\n"
     ]
    },
    {
     "name": "stderr",
     "output_type": "stream",
     "text": [
      "Epoch: 100%|██████████| 176/176 [00:32<00:00,  5.47it/s]\n",
      "Epoch:   1%|          | 1/100 [00:00<00:15,  6.20it/s]"
     ]
    },
    {
     "name": "stdout",
     "output_type": "stream",
     "text": [
      "Iteration No: 134 ended. Search finished for the next optimal point.\n",
      "Time taken: 32.3660\n",
      "Function value obtained: -0.0410\n",
      "Current minimum: -0.0525\n",
      "Iteration No: 135 started. Searching for the next optimal point.\n"
     ]
    },
    {
     "name": "stderr",
     "output_type": "stream",
     "text": [
      "Epoch: 100%|██████████| 100/100 [00:15<00:00,  6.54it/s]\n",
      "Epoch:   0%|          | 0/74 [00:00<?, ?it/s]"
     ]
    },
    {
     "name": "stdout",
     "output_type": "stream",
     "text": [
      "Iteration No: 135 ended. Search finished for the next optimal point.\n",
      "Time taken: 15.4926\n",
      "Function value obtained: -0.0164\n",
      "Current minimum: -0.0525\n",
      "Iteration No: 136 started. Searching for the next optimal point.\n"
     ]
    },
    {
     "name": "stderr",
     "output_type": "stream",
     "text": [
      "Epoch: 100%|██████████| 74/74 [00:13<00:00,  5.36it/s]\n",
      "Epoch:   0%|          | 0/72 [00:00<?, ?it/s]"
     ]
    },
    {
     "name": "stdout",
     "output_type": "stream",
     "text": [
      "Iteration No: 136 ended. Search finished for the next optimal point.\n",
      "Time taken: 14.0002\n",
      "Function value obtained: -0.0033\n",
      "Current minimum: -0.0525\n",
      "Iteration No: 137 started. Searching for the next optimal point.\n"
     ]
    },
    {
     "name": "stderr",
     "output_type": "stream",
     "text": [
      "Epoch: 100%|██████████| 72/72 [00:14<00:00,  4.81it/s]\n",
      "Epoch:   0%|          | 0/87 [00:00<?, ?it/s]"
     ]
    },
    {
     "name": "stdout",
     "output_type": "stream",
     "text": [
      "Iteration No: 137 ended. Search finished for the next optimal point.\n",
      "Time taken: 15.1782\n",
      "Function value obtained: -0.0361\n",
      "Current minimum: -0.0525\n",
      "Iteration No: 138 started. Searching for the next optimal point.\n"
     ]
    },
    {
     "name": "stderr",
     "output_type": "stream",
     "text": [
      "Epoch: 100%|██████████| 87/87 [00:17<00:00,  4.96it/s]\n",
      "Epoch:   0%|          | 0/88 [00:00<?, ?it/s]"
     ]
    },
    {
     "name": "stdout",
     "output_type": "stream",
     "text": [
      "Iteration No: 138 ended. Search finished for the next optimal point.\n",
      "Time taken: 17.7563\n",
      "Function value obtained: -0.0410\n",
      "Current minimum: -0.0525\n",
      "Iteration No: 139 started. Searching for the next optimal point.\n"
     ]
    },
    {
     "name": "stderr",
     "output_type": "stream",
     "text": [
      "Epoch: 100%|██████████| 88/88 [00:18<00:00,  4.78it/s]\n",
      "Epoch:   0%|          | 0/91 [00:00<?, ?it/s]"
     ]
    },
    {
     "name": "stdout",
     "output_type": "stream",
     "text": [
      "Iteration No: 139 ended. Search finished for the next optimal point.\n",
      "Time taken: 18.6170\n",
      "Function value obtained: -0.0443\n",
      "Current minimum: -0.0525\n",
      "Iteration No: 140 started. Searching for the next optimal point.\n"
     ]
    },
    {
     "name": "stderr",
     "output_type": "stream",
     "text": [
      "Epoch: 100%|██████████| 91/91 [00:20<00:00,  4.55it/s]\n",
      "Epoch:   0%|          | 0/79 [00:00<?, ?it/s]"
     ]
    },
    {
     "name": "stdout",
     "output_type": "stream",
     "text": [
      "Iteration No: 140 ended. Search finished for the next optimal point.\n",
      "Time taken: 20.2596\n",
      "Function value obtained: -0.0393\n",
      "Current minimum: -0.0525\n",
      "Iteration No: 141 started. Searching for the next optimal point.\n"
     ]
    },
    {
     "name": "stderr",
     "output_type": "stream",
     "text": [
      "Epoch: 100%|██████████| 79/79 [00:14<00:00,  5.35it/s]\n",
      "Epoch:   0%|          | 0/136 [00:00<?, ?it/s]"
     ]
    },
    {
     "name": "stdout",
     "output_type": "stream",
     "text": [
      "Iteration No: 141 ended. Search finished for the next optimal point.\n",
      "Time taken: 14.9590\n",
      "Function value obtained: -0.0361\n",
      "Current minimum: -0.0525\n",
      "Iteration No: 142 started. Searching for the next optimal point.\n"
     ]
    },
    {
     "name": "stderr",
     "output_type": "stream",
     "text": [
      "Epoch: 100%|██████████| 136/136 [00:34<00:00,  3.89it/s]\n",
      "Epoch:   1%|          | 1/107 [00:00<00:11,  9.30it/s]"
     ]
    },
    {
     "name": "stdout",
     "output_type": "stream",
     "text": [
      "Iteration No: 142 ended. Search finished for the next optimal point.\n",
      "Time taken: 35.1582\n",
      "Function value obtained: -0.0262\n",
      "Current minimum: -0.0525\n",
      "Iteration No: 143 started. Searching for the next optimal point.\n"
     ]
    },
    {
     "name": "stderr",
     "output_type": "stream",
     "text": [
      "Epoch: 100%|██████████| 107/107 [00:11<00:00,  9.58it/s]\n",
      "Epoch:   1%|▏         | 1/74 [00:00<00:14,  5.08it/s]"
     ]
    },
    {
     "name": "stdout",
     "output_type": "stream",
     "text": [
      "Iteration No: 143 ended. Search finished for the next optimal point.\n",
      "Time taken: 11.3532\n",
      "Function value obtained: -0.0344\n",
      "Current minimum: -0.0525\n",
      "Iteration No: 144 started. Searching for the next optimal point.\n"
     ]
    },
    {
     "name": "stderr",
     "output_type": "stream",
     "text": [
      "Epoch: 100%|██████████| 74/74 [00:12<00:00,  5.99it/s]\n",
      "Epoch:   1%|          | 1/94 [00:00<00:15,  5.95it/s]"
     ]
    },
    {
     "name": "stdout",
     "output_type": "stream",
     "text": [
      "Iteration No: 144 ended. Search finished for the next optimal point.\n",
      "Time taken: 12.5567\n",
      "Function value obtained: -0.0066\n",
      "Current minimum: -0.0525\n",
      "Iteration No: 145 started. Searching for the next optimal point.\n"
     ]
    },
    {
     "name": "stderr",
     "output_type": "stream",
     "text": [
      "Epoch: 100%|██████████| 94/94 [00:13<00:00,  7.12it/s]\n",
      "Epoch:   1%|          | 1/86 [00:00<00:16,  5.29it/s]"
     ]
    },
    {
     "name": "stdout",
     "output_type": "stream",
     "text": [
      "Iteration No: 145 ended. Search finished for the next optimal point.\n",
      "Time taken: 13.4082\n",
      "Function value obtained: -0.0131\n",
      "Current minimum: -0.0525\n",
      "Iteration No: 146 started. Searching for the next optimal point.\n"
     ]
    },
    {
     "name": "stderr",
     "output_type": "stream",
     "text": [
      "Epoch: 100%|██████████| 86/86 [00:16<00:00,  5.26it/s]\n",
      "Epoch:   1%|▏         | 1/73 [00:00<00:13,  5.31it/s]"
     ]
    },
    {
     "name": "stdout",
     "output_type": "stream",
     "text": [
      "Iteration No: 146 ended. Search finished for the next optimal point.\n",
      "Time taken: 16.5631\n",
      "Function value obtained: -0.0361\n",
      "Current minimum: -0.0525\n",
      "Iteration No: 147 started. Searching for the next optimal point.\n"
     ]
    },
    {
     "name": "stderr",
     "output_type": "stream",
     "text": [
      "Epoch: 100%|██████████| 73/73 [00:14<00:00,  4.98it/s]\n",
      "Epoch:   1%|          | 2/201 [00:00<00:14, 13.83it/s]"
     ]
    },
    {
     "name": "stdout",
     "output_type": "stream",
     "text": [
      "Iteration No: 147 ended. Search finished for the next optimal point.\n",
      "Time taken: 14.8676\n",
      "Function value obtained: -0.0393\n",
      "Current minimum: -0.0525\n",
      "Iteration No: 148 started. Searching for the next optimal point.\n"
     ]
    },
    {
     "name": "stderr",
     "output_type": "stream",
     "text": [
      "Epoch: 100%|██████████| 201/201 [00:14<00:00, 13.42it/s]\n",
      "Epoch:   1%|          | 1/97 [00:00<00:12,  7.55it/s]"
     ]
    },
    {
     "name": "stdout",
     "output_type": "stream",
     "text": [
      "Iteration No: 148 ended. Search finished for the next optimal point.\n",
      "Time taken: 15.1613\n",
      "Function value obtained: -0.0426\n",
      "Current minimum: -0.0525\n",
      "Iteration No: 149 started. Searching for the next optimal point.\n"
     ]
    },
    {
     "name": "stderr",
     "output_type": "stream",
     "text": [
      "Epoch: 100%|██████████| 97/97 [00:12<00:00,  8.01it/s]\n",
      "Epoch:   1%|▏         | 1/78 [00:00<00:12,  6.01it/s]"
     ]
    },
    {
     "name": "stdout",
     "output_type": "stream",
     "text": [
      "Iteration No: 149 ended. Search finished for the next optimal point.\n",
      "Time taken: 12.3140\n",
      "Function value obtained: -0.0197\n",
      "Current minimum: -0.0525\n",
      "Iteration No: 150 started. Searching for the next optimal point.\n"
     ]
    },
    {
     "name": "stderr",
     "output_type": "stream",
     "text": [
      "Epoch: 100%|██████████| 78/78 [00:11<00:00,  6.66it/s]\n",
      "Epoch:   0%|          | 0/39 [00:00<?, ?it/s]"
     ]
    },
    {
     "name": "stdout",
     "output_type": "stream",
     "text": [
      "Iteration No: 150 ended. Search finished for the next optimal point.\n",
      "Time taken: 11.9561\n",
      "Function value obtained: -0.0148\n",
      "Current minimum: -0.0525\n",
      "Iteration No: 151 started. Searching for the next optimal point.\n"
     ]
    },
    {
     "name": "stderr",
     "output_type": "stream",
     "text": [
      "Epoch: 100%|██████████| 39/39 [00:08<00:00,  4.62it/s]\n",
      "Epoch:   1%|          | 1/132 [00:00<00:13,  9.72it/s]"
     ]
    },
    {
     "name": "stdout",
     "output_type": "stream",
     "text": [
      "Iteration No: 151 ended. Search finished for the next optimal point.\n",
      "Time taken: 8.6442\n",
      "Function value obtained: -0.0344\n",
      "Current minimum: -0.0525\n",
      "Iteration No: 152 started. Searching for the next optimal point.\n"
     ]
    },
    {
     "name": "stderr",
     "output_type": "stream",
     "text": [
      "Epoch: 100%|██████████| 132/132 [00:14<00:00,  9.37it/s]\n",
      "Epoch:   2%|▏         | 2/108 [00:00<00:10, 10.19it/s]"
     ]
    },
    {
     "name": "stdout",
     "output_type": "stream",
     "text": [
      "Iteration No: 152 ended. Search finished for the next optimal point.\n",
      "Time taken: 14.2856\n",
      "Function value obtained: -0.0361\n",
      "Current minimum: -0.0525\n",
      "Iteration No: 153 started. Searching for the next optimal point.\n"
     ]
    },
    {
     "name": "stderr",
     "output_type": "stream",
     "text": [
      "Epoch: 100%|██████████| 108/108 [00:10<00:00, 10.07it/s]\n",
      "Epoch:   1%|          | 1/94 [00:00<00:13,  7.12it/s]"
     ]
    },
    {
     "name": "stdout",
     "output_type": "stream",
     "text": [
      "Iteration No: 153 ended. Search finished for the next optimal point.\n",
      "Time taken: 10.9204\n",
      "Function value obtained: -0.0492\n",
      "Current minimum: -0.0525\n",
      "Iteration No: 154 started. Searching for the next optimal point.\n"
     ]
    },
    {
     "name": "stderr",
     "output_type": "stream",
     "text": [
      "Epoch: 100%|██████████| 94/94 [00:12<00:00,  7.72it/s]\n",
      "Epoch:   1%|          | 1/194 [00:00<00:20,  9.63it/s]"
     ]
    },
    {
     "name": "stdout",
     "output_type": "stream",
     "text": [
      "Iteration No: 154 ended. Search finished for the next optimal point.\n",
      "Time taken: 12.3806\n",
      "Function value obtained: -0.0410\n",
      "Current minimum: -0.0525\n",
      "Iteration No: 155 started. Searching for the next optimal point.\n"
     ]
    },
    {
     "name": "stderr",
     "output_type": "stream",
     "text": [
      "Epoch: 100%|██████████| 194/194 [00:19<00:00, 10.11it/s]\n",
      "Epoch:   2%|▏         | 2/120 [00:00<00:10, 10.94it/s]"
     ]
    },
    {
     "name": "stdout",
     "output_type": "stream",
     "text": [
      "Iteration No: 155 ended. Search finished for the next optimal point.\n",
      "Time taken: 19.3874\n",
      "Function value obtained: -0.0213\n",
      "Current minimum: -0.0525\n",
      "Iteration No: 156 started. Searching for the next optimal point.\n"
     ]
    },
    {
     "name": "stderr",
     "output_type": "stream",
     "text": [
      "Epoch: 100%|██████████| 120/120 [00:10<00:00, 11.05it/s]\n",
      "Epoch:   2%|▏         | 2/96 [00:00<00:05, 15.87it/s]"
     ]
    },
    {
     "name": "stdout",
     "output_type": "stream",
     "text": [
      "Iteration No: 156 ended. Search finished for the next optimal point.\n",
      "Time taken: 11.0530\n",
      "Function value obtained: -0.0295\n",
      "Current minimum: -0.0525\n",
      "Iteration No: 157 started. Searching for the next optimal point.\n"
     ]
    },
    {
     "name": "stderr",
     "output_type": "stream",
     "text": [
      "Epoch: 100%|██████████| 96/96 [00:05<00:00, 16.26it/s]\n",
      "Epoch:   1%|          | 1/165 [00:00<00:22,  7.28it/s]"
     ]
    },
    {
     "name": "stdout",
     "output_type": "stream",
     "text": [
      "Iteration No: 157 ended. Search finished for the next optimal point.\n",
      "Time taken: 6.0909\n",
      "Function value obtained: -0.0377\n",
      "Current minimum: -0.0525\n",
      "Iteration No: 158 started. Searching for the next optimal point.\n"
     ]
    },
    {
     "name": "stderr",
     "output_type": "stream",
     "text": [
      "Epoch: 100%|██████████| 165/165 [00:20<00:00,  8.00it/s]\n",
      "Epoch:   1%|          | 1/106 [00:00<00:17,  5.90it/s]"
     ]
    },
    {
     "name": "stdout",
     "output_type": "stream",
     "text": [
      "Iteration No: 158 ended. Search finished for the next optimal point.\n",
      "Time taken: 20.8300\n",
      "Function value obtained: -0.0213\n",
      "Current minimum: -0.0525\n",
      "Iteration No: 159 started. Searching for the next optimal point.\n"
     ]
    },
    {
     "name": "stderr",
     "output_type": "stream",
     "text": [
      "Epoch: 100%|██████████| 106/106 [00:17<00:00,  6.15it/s]\n",
      "Epoch:   0%|          | 0/74 [00:00<?, ?it/s]"
     ]
    },
    {
     "name": "stdout",
     "output_type": "stream",
     "text": [
      "Iteration No: 159 ended. Search finished for the next optimal point.\n",
      "Time taken: 17.4655\n",
      "Function value obtained: -0.0361\n",
      "Current minimum: -0.0525\n",
      "Iteration No: 160 started. Searching for the next optimal point.\n"
     ]
    },
    {
     "name": "stderr",
     "output_type": "stream",
     "text": [
      "Epoch: 100%|██████████| 74/74 [00:16<00:00,  4.53it/s]\n",
      "Epoch:   1%|          | 2/202 [00:00<00:16, 11.95it/s]"
     ]
    },
    {
     "name": "stdout",
     "output_type": "stream",
     "text": [
      "Iteration No: 160 ended. Search finished for the next optimal point.\n",
      "Time taken: 16.5576\n",
      "Function value obtained: -0.0344\n",
      "Current minimum: -0.0525\n",
      "Iteration No: 161 started. Searching for the next optimal point.\n"
     ]
    },
    {
     "name": "stderr",
     "output_type": "stream",
     "text": [
      "Epoch: 100%|██████████| 202/202 [00:18<00:00, 11.18it/s]\n",
      "Epoch:   0%|          | 0/121 [00:00<?, ?it/s]"
     ]
    },
    {
     "name": "stdout",
     "output_type": "stream",
     "text": [
      "Iteration No: 161 ended. Search finished for the next optimal point.\n",
      "Time taken: 18.3635\n",
      "Function value obtained: -0.0475\n",
      "Current minimum: -0.0525\n",
      "Iteration No: 162 started. Searching for the next optimal point.\n"
     ]
    },
    {
     "name": "stderr",
     "output_type": "stream",
     "text": [
      "Epoch: 100%|██████████| 121/121 [00:18<00:00,  6.37it/s]\n",
      "Epoch:   1%|          | 1/92 [00:00<00:13,  6.64it/s]"
     ]
    },
    {
     "name": "stdout",
     "output_type": "stream",
     "text": [
      "Iteration No: 162 ended. Search finished for the next optimal point.\n",
      "Time taken: 19.1817\n",
      "Function value obtained: -0.0361\n",
      "Current minimum: -0.0525\n",
      "Iteration No: 163 started. Searching for the next optimal point.\n"
     ]
    },
    {
     "name": "stderr",
     "output_type": "stream",
     "text": [
      "Epoch: 100%|██████████| 92/92 [00:13<00:00,  7.07it/s]\n",
      "Epoch:   1%|          | 1/133 [00:00<00:17,  7.44it/s]"
     ]
    },
    {
     "name": "stdout",
     "output_type": "stream",
     "text": [
      "Iteration No: 163 ended. Search finished for the next optimal point.\n",
      "Time taken: 13.2159\n",
      "Function value obtained: -0.0344\n",
      "Current minimum: -0.0525\n",
      "Iteration No: 164 started. Searching for the next optimal point.\n"
     ]
    },
    {
     "name": "stderr",
     "output_type": "stream",
     "text": [
      "Epoch: 100%|██████████| 133/133 [00:21<00:00,  6.31it/s]\n",
      "Epoch:   1%|          | 1/131 [00:00<00:13,  9.41it/s]"
     ]
    },
    {
     "name": "stdout",
     "output_type": "stream",
     "text": [
      "Iteration No: 164 ended. Search finished for the next optimal point.\n",
      "Time taken: 21.2664\n",
      "Function value obtained: -0.0459\n",
      "Current minimum: -0.0525\n",
      "Iteration No: 165 started. Searching for the next optimal point.\n"
     ]
    },
    {
     "name": "stderr",
     "output_type": "stream",
     "text": [
      "Epoch: 100%|██████████| 131/131 [00:15<00:00,  8.70it/s]\n",
      "Epoch:   1%|          | 1/127 [00:00<00:16,  7.63it/s]"
     ]
    },
    {
     "name": "stdout",
     "output_type": "stream",
     "text": [
      "Iteration No: 165 ended. Search finished for the next optimal point.\n",
      "Time taken: 15.2491\n",
      "Function value obtained: -0.0344\n",
      "Current minimum: -0.0525\n",
      "Iteration No: 166 started. Searching for the next optimal point.\n"
     ]
    },
    {
     "name": "stderr",
     "output_type": "stream",
     "text": [
      "Epoch: 100%|██████████| 127/127 [00:14<00:00,  8.79it/s]\n",
      "Epoch:   1%|          | 2/178 [00:00<00:09, 19.34it/s]"
     ]
    },
    {
     "name": "stdout",
     "output_type": "stream",
     "text": [
      "Iteration No: 166 ended. Search finished for the next optimal point.\n",
      "Time taken: 14.6431\n",
      "Function value obtained: -0.0197\n",
      "Current minimum: -0.0525\n",
      "Iteration No: 167 started. Searching for the next optimal point.\n"
     ]
    },
    {
     "name": "stderr",
     "output_type": "stream",
     "text": [
      "Epoch: 100%|██████████| 178/178 [00:10<00:00, 17.43it/s]\n",
      "Epoch:   1%|          | 1/163 [00:00<00:19,  8.44it/s]"
     ]
    },
    {
     "name": "stdout",
     "output_type": "stream",
     "text": [
      "Iteration No: 167 ended. Search finished for the next optimal point.\n",
      "Time taken: 10.3998\n",
      "Function value obtained: -0.0410\n",
      "Current minimum: -0.0525\n",
      "Iteration No: 168 started. Searching for the next optimal point.\n"
     ]
    },
    {
     "name": "stderr",
     "output_type": "stream",
     "text": [
      "Epoch: 100%|██████████| 163/163 [00:19<00:00,  8.31it/s]\n",
      "Epoch:   0%|          | 0/93 [00:00<?, ?it/s]"
     ]
    },
    {
     "name": "stdout",
     "output_type": "stream",
     "text": [
      "Iteration No: 168 ended. Search finished for the next optimal point.\n",
      "Time taken: 19.8413\n",
      "Function value obtained: -0.0344\n",
      "Current minimum: -0.0525\n",
      "Iteration No: 169 started. Searching for the next optimal point.\n"
     ]
    },
    {
     "name": "stderr",
     "output_type": "stream",
     "text": [
      "Epoch: 100%|██████████| 93/93 [00:10<00:00,  9.01it/s]\n",
      "Epoch:   1%|          | 1/136 [00:00<00:19,  6.95it/s]"
     ]
    },
    {
     "name": "stdout",
     "output_type": "stream",
     "text": [
      "Iteration No: 169 ended. Search finished for the next optimal point.\n",
      "Time taken: 10.5188\n",
      "Function value obtained: -0.0344\n",
      "Current minimum: -0.0525\n",
      "Iteration No: 170 started. Searching for the next optimal point.\n"
     ]
    },
    {
     "name": "stderr",
     "output_type": "stream",
     "text": [
      "Epoch: 100%|██████████| 136/136 [00:21<00:00,  6.32it/s]\n",
      "Epoch:   1%|          | 2/164 [00:00<00:11, 13.91it/s]"
     ]
    },
    {
     "name": "stdout",
     "output_type": "stream",
     "text": [
      "Iteration No: 170 ended. Search finished for the next optimal point.\n",
      "Time taken: 21.7143\n",
      "Function value obtained: -0.0082\n",
      "Current minimum: -0.0525\n",
      "Iteration No: 171 started. Searching for the next optimal point.\n"
     ]
    },
    {
     "name": "stderr",
     "output_type": "stream",
     "text": [
      "Epoch: 100%|██████████| 164/164 [00:11<00:00, 14.09it/s]\n",
      "Epoch:   4%|▎         | 2/54 [00:00<00:02, 18.94it/s]"
     ]
    },
    {
     "name": "stdout",
     "output_type": "stream",
     "text": [
      "Iteration No: 171 ended. Search finished for the next optimal point.\n",
      "Time taken: 11.8305\n",
      "Function value obtained: -0.0295\n",
      "Current minimum: -0.0525\n",
      "Iteration No: 172 started. Searching for the next optimal point.\n"
     ]
    },
    {
     "name": "stderr",
     "output_type": "stream",
     "text": [
      "Epoch: 100%|██████████| 54/54 [00:02<00:00, 18.81it/s]\n",
      "Epoch:   8%|▊         | 1/13 [00:00<00:02,  5.74it/s]"
     ]
    },
    {
     "name": "stdout",
     "output_type": "stream",
     "text": [
      "Iteration No: 172 ended. Search finished for the next optimal point.\n",
      "Time taken: 3.0628\n",
      "Function value obtained: -0.0016\n",
      "Current minimum: -0.0525\n",
      "Iteration No: 173 started. Searching for the next optimal point.\n"
     ]
    },
    {
     "name": "stderr",
     "output_type": "stream",
     "text": [
      "Epoch: 100%|██████████| 13/13 [00:02<00:00,  5.32it/s]\n",
      "Epoch:   2%|▏         | 1/59 [00:00<00:07,  7.57it/s]"
     ]
    },
    {
     "name": "stdout",
     "output_type": "stream",
     "text": [
      "Iteration No: 173 ended. Search finished for the next optimal point.\n",
      "Time taken: 2.6485\n",
      "Function value obtained: -0.0426\n",
      "Current minimum: -0.0525\n",
      "Iteration No: 174 started. Searching for the next optimal point.\n"
     ]
    },
    {
     "name": "stderr",
     "output_type": "stream",
     "text": [
      "Epoch: 100%|██████████| 59/59 [00:08<00:00,  7.31it/s]\n",
      "Epoch:   0%|          | 0/203 [00:00<?, ?it/s]"
     ]
    },
    {
     "name": "stdout",
     "output_type": "stream",
     "text": [
      "Iteration No: 174 ended. Search finished for the next optimal point.\n",
      "Time taken: 8.3664\n",
      "Function value obtained: -0.0344\n",
      "Current minimum: -0.0525\n",
      "Iteration No: 175 started. Searching for the next optimal point.\n"
     ]
    },
    {
     "name": "stderr",
     "output_type": "stream",
     "text": [
      "Epoch: 100%|██████████| 203/203 [00:21<00:00,  9.23it/s]\n",
      "Epoch:   0%|          | 0/62 [00:00<?, ?it/s]"
     ]
    },
    {
     "name": "stdout",
     "output_type": "stream",
     "text": [
      "Iteration No: 175 ended. Search finished for the next optimal point.\n",
      "Time taken: 22.2612\n",
      "Function value obtained: -0.0393\n",
      "Current minimum: -0.0525\n",
      "Iteration No: 176 started. Searching for the next optimal point.\n"
     ]
    },
    {
     "name": "stderr",
     "output_type": "stream",
     "text": [
      "Epoch: 100%|██████████| 62/62 [00:11<00:00,  5.60it/s]\n",
      "Epoch:   2%|▏         | 1/66 [00:00<00:09,  6.91it/s]"
     ]
    },
    {
     "name": "stdout",
     "output_type": "stream",
     "text": [
      "Iteration No: 176 ended. Search finished for the next optimal point.\n",
      "Time taken: 11.2803\n",
      "Function value obtained: -0.0049\n",
      "Current minimum: -0.0525\n",
      "Iteration No: 177 started. Searching for the next optimal point.\n"
     ]
    },
    {
     "name": "stderr",
     "output_type": "stream",
     "text": [
      "Epoch: 100%|██████████| 66/66 [00:10<00:00,  6.50it/s]\n",
      "Epoch:   1%|▏         | 1/77 [00:00<00:11,  6.78it/s]"
     ]
    },
    {
     "name": "stdout",
     "output_type": "stream",
     "text": [
      "Iteration No: 177 ended. Search finished for the next optimal point.\n",
      "Time taken: 10.3852\n",
      "Function value obtained: -0.0410\n",
      "Current minimum: -0.0525\n",
      "Iteration No: 178 started. Searching for the next optimal point.\n"
     ]
    },
    {
     "name": "stderr",
     "output_type": "stream",
     "text": [
      "Epoch: 100%|██████████| 77/77 [00:11<00:00,  6.99it/s]\n",
      "Epoch:   2%|▏         | 1/61 [00:00<00:06,  9.86it/s]"
     ]
    },
    {
     "name": "stdout",
     "output_type": "stream",
     "text": [
      "Iteration No: 178 ended. Search finished for the next optimal point.\n",
      "Time taken: 11.2168\n",
      "Function value obtained: -0.0328\n",
      "Current minimum: -0.0525\n",
      "Iteration No: 179 started. Searching for the next optimal point.\n"
     ]
    },
    {
     "name": "stderr",
     "output_type": "stream",
     "text": [
      "Epoch: 100%|██████████| 61/61 [00:06<00:00, 10.09it/s]\n",
      "Epoch:   2%|▏         | 1/62 [00:00<00:08,  7.39it/s]"
     ]
    },
    {
     "name": "stdout",
     "output_type": "stream",
     "text": [
      "Iteration No: 179 ended. Search finished for the next optimal point.\n",
      "Time taken: 6.4218\n",
      "Function value obtained: -0.0295\n",
      "Current minimum: -0.0525\n",
      "Iteration No: 180 started. Searching for the next optimal point.\n"
     ]
    },
    {
     "name": "stderr",
     "output_type": "stream",
     "text": [
      "Epoch: 100%|██████████| 62/62 [00:05<00:00, 10.38it/s]\n",
      "Epoch:   0%|          | 0/67 [00:00<?, ?it/s]"
     ]
    },
    {
     "name": "stdout",
     "output_type": "stream",
     "text": [
      "Iteration No: 180 ended. Search finished for the next optimal point.\n",
      "Time taken: 6.1822\n",
      "Function value obtained: -0.0033\n",
      "Current minimum: -0.0525\n",
      "Iteration No: 181 started. Searching for the next optimal point.\n"
     ]
    },
    {
     "name": "stderr",
     "output_type": "stream",
     "text": [
      "Epoch: 100%|██████████| 67/67 [00:12<00:00,  5.49it/s]\n",
      "Epoch:   2%|▏         | 1/59 [00:00<00:06,  8.43it/s]"
     ]
    },
    {
     "name": "stdout",
     "output_type": "stream",
     "text": [
      "Iteration No: 181 ended. Search finished for the next optimal point.\n",
      "Time taken: 12.4037\n",
      "Function value obtained: -0.0131\n",
      "Current minimum: -0.0525\n",
      "Iteration No: 182 started. Searching for the next optimal point.\n"
     ]
    },
    {
     "name": "stderr",
     "output_type": "stream",
     "text": [
      "Epoch: 100%|██████████| 59/59 [00:07<00:00,  8.42it/s]\n",
      "Epoch:   2%|▏         | 2/106 [00:00<00:06, 14.88it/s]"
     ]
    },
    {
     "name": "stdout",
     "output_type": "stream",
     "text": [
      "Iteration No: 182 ended. Search finished for the next optimal point.\n",
      "Time taken: 7.2014\n",
      "Function value obtained: -0.0361\n",
      "Current minimum: -0.0525\n",
      "Iteration No: 183 started. Searching for the next optimal point.\n"
     ]
    },
    {
     "name": "stderr",
     "output_type": "stream",
     "text": [
      "Epoch: 100%|██████████| 106/106 [00:07<00:00, 15.06it/s]\n",
      "Epoch:   1%|          | 1/179 [00:00<00:25,  6.93it/s]"
     ]
    },
    {
     "name": "stdout",
     "output_type": "stream",
     "text": [
      "Iteration No: 183 ended. Search finished for the next optimal point.\n",
      "Time taken: 7.2330\n",
      "Function value obtained: -0.0164\n",
      "Current minimum: -0.0525\n",
      "Iteration No: 184 started. Searching for the next optimal point.\n"
     ]
    },
    {
     "name": "stderr",
     "output_type": "stream",
     "text": [
      "Epoch: 100%|██████████| 179/179 [00:25<00:00,  6.93it/s]\n",
      "Epoch:   2%|▏         | 2/129 [00:00<00:08, 15.26it/s]"
     ]
    },
    {
     "name": "stdout",
     "output_type": "stream",
     "text": [
      "Iteration No: 184 ended. Search finished for the next optimal point.\n",
      "Time taken: 26.0375\n",
      "Function value obtained: -0.0328\n",
      "Current minimum: -0.0525\n",
      "Iteration No: 185 started. Searching for the next optimal point.\n"
     ]
    },
    {
     "name": "stderr",
     "output_type": "stream",
     "text": [
      "Epoch: 100%|██████████| 129/129 [00:08<00:00, 14.67it/s]\n",
      "Epoch:   1%|▏         | 2/142 [00:00<00:08, 17.01it/s]"
     ]
    },
    {
     "name": "stdout",
     "output_type": "stream",
     "text": [
      "Iteration No: 185 ended. Search finished for the next optimal point.\n",
      "Time taken: 8.9855\n",
      "Function value obtained: -0.0426\n",
      "Current minimum: -0.0525\n",
      "Iteration No: 186 started. Searching for the next optimal point.\n"
     ]
    },
    {
     "name": "stderr",
     "output_type": "stream",
     "text": [
      "Epoch: 100%|██████████| 142/142 [00:08<00:00, 17.35it/s]\n",
      "Epoch:   6%|▋         | 1/16 [00:00<00:02,  5.47it/s]"
     ]
    },
    {
     "name": "stdout",
     "output_type": "stream",
     "text": [
      "Iteration No: 186 ended. Search finished for the next optimal point.\n",
      "Time taken: 8.3749\n",
      "Function value obtained: -0.0311\n",
      "Current minimum: -0.0525\n",
      "Iteration No: 187 started. Searching for the next optimal point.\n"
     ]
    },
    {
     "name": "stderr",
     "output_type": "stream",
     "text": [
      "Epoch: 100%|██████████| 16/16 [00:03<00:00,  5.33it/s]\n",
      "Epoch:   0%|          | 0/33 [00:00<?, ?it/s]"
     ]
    },
    {
     "name": "stdout",
     "output_type": "stream",
     "text": [
      "Iteration No: 187 ended. Search finished for the next optimal point.\n",
      "Time taken: 3.2427\n",
      "Function value obtained: -0.0377\n",
      "Current minimum: -0.0525\n",
      "Iteration No: 188 started. Searching for the next optimal point.\n"
     ]
    },
    {
     "name": "stderr",
     "output_type": "stream",
     "text": [
      "Epoch: 100%|██████████| 33/33 [00:07<00:00,  4.44it/s]\n",
      "Epoch:   1%|          | 2/170 [00:00<00:13, 12.72it/s]"
     ]
    },
    {
     "name": "stdout",
     "output_type": "stream",
     "text": [
      "Iteration No: 188 ended. Search finished for the next optimal point.\n",
      "Time taken: 7.6563\n",
      "Function value obtained: -0.0049\n",
      "Current minimum: -0.0525\n",
      "Iteration No: 189 started. Searching for the next optimal point.\n"
     ]
    },
    {
     "name": "stderr",
     "output_type": "stream",
     "text": [
      "Epoch: 100%|██████████| 170/170 [00:13<00:00, 12.68it/s]\n",
      "Epoch:   0%|          | 0/53 [00:00<?, ?it/s]"
     ]
    },
    {
     "name": "stdout",
     "output_type": "stream",
     "text": [
      "Iteration No: 189 ended. Search finished for the next optimal point.\n",
      "Time taken: 13.5971\n",
      "Function value obtained: -0.0344\n",
      "Current minimum: -0.0525\n",
      "Iteration No: 190 started. Searching for the next optimal point.\n"
     ]
    },
    {
     "name": "stderr",
     "output_type": "stream",
     "text": [
      "Epoch: 100%|██████████| 53/53 [00:10<00:00,  4.86it/s]\n",
      "Epoch:   0%|          | 0/109 [00:00<?, ?it/s]"
     ]
    },
    {
     "name": "stdout",
     "output_type": "stream",
     "text": [
      "Iteration No: 190 ended. Search finished for the next optimal point.\n",
      "Time taken: 11.1199\n",
      "Function value obtained: -0.0328\n",
      "Current minimum: -0.0525\n",
      "Iteration No: 191 started. Searching for the next optimal point.\n"
     ]
    },
    {
     "name": "stderr",
     "output_type": "stream",
     "text": [
      "Epoch: 100%|██████████| 109/109 [00:24<00:00,  4.53it/s]\n",
      "Epoch:   1%|          | 2/167 [00:00<00:14, 11.73it/s]"
     ]
    },
    {
     "name": "stdout",
     "output_type": "stream",
     "text": [
      "Iteration No: 191 ended. Search finished for the next optimal point.\n",
      "Time taken: 24.2821\n",
      "Function value obtained: -0.0377\n",
      "Current minimum: -0.0525\n",
      "Iteration No: 192 started. Searching for the next optimal point.\n"
     ]
    },
    {
     "name": "stderr",
     "output_type": "stream",
     "text": [
      "Epoch: 100%|██████████| 167/167 [00:14<00:00, 11.55it/s]\n",
      "Epoch:   1%|          | 1/105 [00:00<00:10,  9.83it/s]"
     ]
    },
    {
     "name": "stdout",
     "output_type": "stream",
     "text": [
      "Iteration No: 192 ended. Search finished for the next optimal point.\n",
      "Time taken: 14.6488\n",
      "Function value obtained: -0.0393\n",
      "Current minimum: -0.0525\n",
      "Iteration No: 193 started. Searching for the next optimal point.\n"
     ]
    },
    {
     "name": "stderr",
     "output_type": "stream",
     "text": [
      "Epoch: 100%|██████████| 105/105 [00:06<00:00, 15.89it/s]\n",
      "Epoch:   1%|▏         | 1/77 [00:00<00:10,  7.19it/s]"
     ]
    },
    {
     "name": "stdout",
     "output_type": "stream",
     "text": [
      "Iteration No: 193 ended. Search finished for the next optimal point.\n",
      "Time taken: 6.8077\n",
      "Function value obtained: -0.0148\n",
      "Current minimum: -0.0525\n",
      "Iteration No: 194 started. Searching for the next optimal point.\n"
     ]
    },
    {
     "name": "stderr",
     "output_type": "stream",
     "text": [
      "Epoch: 100%|██████████| 77/77 [00:10<00:00,  7.04it/s]\n",
      "Epoch:   0%|          | 0/100 [00:00<?, ?it/s]"
     ]
    },
    {
     "name": "stdout",
     "output_type": "stream",
     "text": [
      "Iteration No: 194 ended. Search finished for the next optimal point.\n",
      "Time taken: 11.1555\n",
      "Function value obtained: -0.0393\n",
      "Current minimum: -0.0525\n",
      "Iteration No: 195 started. Searching for the next optimal point.\n"
     ]
    },
    {
     "name": "stderr",
     "output_type": "stream",
     "text": [
      "Epoch: 100%|██████████| 100/100 [00:23<00:00,  4.18it/s]\n",
      "Epoch:   1%|▏         | 1/76 [00:00<00:13,  5.56it/s]"
     ]
    },
    {
     "name": "stdout",
     "output_type": "stream",
     "text": [
      "Iteration No: 195 ended. Search finished for the next optimal point.\n",
      "Time taken: 24.1360\n",
      "Function value obtained: -0.0344\n",
      "Current minimum: -0.0525\n",
      "Iteration No: 196 started. Searching for the next optimal point.\n"
     ]
    },
    {
     "name": "stderr",
     "output_type": "stream",
     "text": [
      "Epoch: 100%|██████████| 76/76 [00:14<00:00,  5.32it/s]\n",
      "Epoch:   0%|          | 1/218 [00:00<00:22,  9.56it/s]"
     ]
    },
    {
     "name": "stdout",
     "output_type": "stream",
     "text": [
      "Iteration No: 196 ended. Search finished for the next optimal point.\n",
      "Time taken: 14.5369\n",
      "Function value obtained: -0.0393\n",
      "Current minimum: -0.0525\n",
      "Iteration No: 197 started. Searching for the next optimal point.\n"
     ]
    },
    {
     "name": "stderr",
     "output_type": "stream",
     "text": [
      "Epoch: 100%|██████████| 218/218 [00:22<00:00,  9.65it/s]\n",
      "Epoch:   0%|          | 1/222 [00:00<00:23,  9.44it/s]"
     ]
    },
    {
     "name": "stdout",
     "output_type": "stream",
     "text": [
      "Iteration No: 197 ended. Search finished for the next optimal point.\n",
      "Time taken: 22.7868\n",
      "Function value obtained: -0.0016\n",
      "Current minimum: -0.0525\n",
      "Iteration No: 198 started. Searching for the next optimal point.\n"
     ]
    },
    {
     "name": "stderr",
     "output_type": "stream",
     "text": [
      "Epoch: 100%|██████████| 222/222 [00:22<00:00,  9.81it/s]\n",
      "Epoch:   1%|          | 2/209 [00:00<00:14, 14.37it/s]"
     ]
    },
    {
     "name": "stdout",
     "output_type": "stream",
     "text": [
      "Iteration No: 198 ended. Search finished for the next optimal point.\n",
      "Time taken: 22.8348\n",
      "Function value obtained: -0.0393\n",
      "Current minimum: -0.0525\n",
      "Iteration No: 199 started. Searching for the next optimal point.\n"
     ]
    },
    {
     "name": "stderr",
     "output_type": "stream",
     "text": [
      "Epoch: 100%|██████████| 209/209 [00:13<00:00, 15.30it/s]\n",
      "Epoch:   1%|          | 2/239 [00:00<00:22, 10.76it/s]"
     ]
    },
    {
     "name": "stdout",
     "output_type": "stream",
     "text": [
      "Iteration No: 199 ended. Search finished for the next optimal point.\n",
      "Time taken: 13.8572\n",
      "Function value obtained: -0.0098\n",
      "Current minimum: -0.0525\n",
      "Iteration No: 200 started. Searching for the next optimal point.\n"
     ]
    },
    {
     "name": "stderr",
     "output_type": "stream",
     "text": [
      "Epoch: 100%|██████████| 239/239 [00:26<00:00,  9.08it/s]\n",
      "Epoch:   0%|          | 0/92 [00:00<?, ?it/s]"
     ]
    },
    {
     "name": "stdout",
     "output_type": "stream",
     "text": [
      "Iteration No: 200 ended. Search finished for the next optimal point.\n",
      "Time taken: 26.5097\n",
      "Function value obtained: -0.0393\n",
      "Current minimum: -0.0525\n",
      "Iteration No: 201 started. Searching for the next optimal point.\n"
     ]
    },
    {
     "name": "stderr",
     "output_type": "stream",
     "text": [
      "Epoch: 100%|██████████| 92/92 [00:18<00:00,  5.10it/s]\n",
      "Epoch:   0%|          | 0/43 [00:00<?, ?it/s]"
     ]
    },
    {
     "name": "stdout",
     "output_type": "stream",
     "text": [
      "Iteration No: 201 ended. Search finished for the next optimal point.\n",
      "Time taken: 18.2448\n",
      "Function value obtained: -0.0082\n",
      "Current minimum: -0.0525\n",
      "Iteration No: 202 started. Searching for the next optimal point.\n"
     ]
    },
    {
     "name": "stderr",
     "output_type": "stream",
     "text": [
      "Epoch: 100%|██████████| 43/43 [00:10<00:00,  4.20it/s]\n",
      "Epoch:   1%|          | 1/185 [00:00<00:35,  5.20it/s]"
     ]
    },
    {
     "name": "stdout",
     "output_type": "stream",
     "text": [
      "Iteration No: 202 ended. Search finished for the next optimal point.\n",
      "Time taken: 10.4561\n",
      "Function value obtained: -0.0328\n",
      "Current minimum: -0.0525\n",
      "Iteration No: 203 started. Searching for the next optimal point.\n"
     ]
    },
    {
     "name": "stderr",
     "output_type": "stream",
     "text": [
      "Epoch: 100%|██████████| 185/185 [00:32<00:00,  5.73it/s]\n",
      "Epoch:   0%|          | 0/217 [00:00<?, ?it/s]"
     ]
    },
    {
     "name": "stdout",
     "output_type": "stream",
     "text": [
      "Iteration No: 203 ended. Search finished for the next optimal point.\n",
      "Time taken: 32.4910\n",
      "Function value obtained: -0.0197\n",
      "Current minimum: -0.0525\n",
      "Iteration No: 204 started. Searching for the next optimal point.\n"
     ]
    },
    {
     "name": "stderr",
     "output_type": "stream",
     "text": [
      "Epoch: 100%|██████████| 217/217 [00:45<00:00,  4.74it/s]\n",
      "Epoch:   0%|          | 0/208 [00:00<?, ?it/s]"
     ]
    },
    {
     "name": "stdout",
     "output_type": "stream",
     "text": [
      "Iteration No: 204 ended. Search finished for the next optimal point.\n",
      "Time taken: 46.0091\n",
      "Function value obtained: -0.0443\n",
      "Current minimum: -0.0525\n",
      "Iteration No: 205 started. Searching for the next optimal point.\n"
     ]
    },
    {
     "name": "stderr",
     "output_type": "stream",
     "text": [
      "Epoch: 100%|██████████| 208/208 [00:43<00:00,  4.75it/s]\n",
      "Epoch:   0%|          | 1/213 [00:00<00:24,  8.73it/s]"
     ]
    },
    {
     "name": "stdout",
     "output_type": "stream",
     "text": [
      "Iteration No: 205 ended. Search finished for the next optimal point.\n",
      "Time taken: 44.0062\n",
      "Function value obtained: -0.0410\n",
      "Current minimum: -0.0525\n",
      "Iteration No: 206 started. Searching for the next optimal point.\n"
     ]
    },
    {
     "name": "stderr",
     "output_type": "stream",
     "text": [
      "Epoch: 100%|██████████| 213/213 [00:25<00:00,  8.49it/s]\n",
      "Epoch:   0%|          | 0/205 [00:00<?, ?it/s]"
     ]
    },
    {
     "name": "stdout",
     "output_type": "stream",
     "text": [
      "Iteration No: 206 ended. Search finished for the next optimal point.\n",
      "Time taken: 25.2892\n",
      "Function value obtained: -0.0328\n",
      "Current minimum: -0.0525\n",
      "Iteration No: 207 started. Searching for the next optimal point.\n"
     ]
    },
    {
     "name": "stderr",
     "output_type": "stream",
     "text": [
      "Epoch: 100%|██████████| 205/205 [00:51<00:00,  3.99it/s]\n",
      "Epoch:   1%|          | 2/221 [00:00<00:16, 13.17it/s]"
     ]
    },
    {
     "name": "stdout",
     "output_type": "stream",
     "text": [
      "Iteration No: 207 ended. Search finished for the next optimal point.\n",
      "Time taken: 51.5512\n",
      "Function value obtained: -0.0361\n",
      "Current minimum: -0.0525\n",
      "Iteration No: 208 started. Searching for the next optimal point.\n"
     ]
    },
    {
     "name": "stderr",
     "output_type": "stream",
     "text": [
      "Epoch: 100%|██████████| 221/221 [00:16<00:00, 13.21it/s]\n",
      "Epoch:   2%|▏         | 2/110 [00:00<00:10, 10.21it/s]"
     ]
    },
    {
     "name": "stdout",
     "output_type": "stream",
     "text": [
      "Iteration No: 208 ended. Search finished for the next optimal point.\n",
      "Time taken: 16.9311\n",
      "Function value obtained: -0.0459\n",
      "Current minimum: -0.0525\n",
      "Iteration No: 209 started. Searching for the next optimal point.\n"
     ]
    },
    {
     "name": "stderr",
     "output_type": "stream",
     "text": [
      "Epoch: 100%|██████████| 110/110 [00:09<00:00, 11.20it/s]\n",
      "Epoch:   0%|          | 0/89 [00:00<?, ?it/s]"
     ]
    },
    {
     "name": "stdout",
     "output_type": "stream",
     "text": [
      "Iteration No: 209 ended. Search finished for the next optimal point.\n",
      "Time taken: 10.0245\n",
      "Function value obtained: -0.0295\n",
      "Current minimum: -0.0525\n",
      "Iteration No: 210 started. Searching for the next optimal point.\n"
     ]
    },
    {
     "name": "stderr",
     "output_type": "stream",
     "text": [
      "Epoch: 100%|██████████| 89/89 [00:18<00:00,  4.90it/s]\n",
      "Epoch:   2%|▏         | 1/58 [00:00<00:05,  9.89it/s]"
     ]
    },
    {
     "name": "stdout",
     "output_type": "stream",
     "text": [
      "Iteration No: 210 ended. Search finished for the next optimal point.\n",
      "Time taken: 18.3667\n",
      "Function value obtained: -0.0148\n",
      "Current minimum: -0.0525\n",
      "Iteration No: 211 started. Searching for the next optimal point.\n"
     ]
    },
    {
     "name": "stderr",
     "output_type": "stream",
     "text": [
      "Epoch: 100%|██████████| 58/58 [00:05<00:00,  9.85it/s]\n",
      "Epoch:   1%|          | 2/232 [00:00<00:15, 14.38it/s]"
     ]
    },
    {
     "name": "stdout",
     "output_type": "stream",
     "text": [
      "Iteration No: 211 ended. Search finished for the next optimal point.\n",
      "Time taken: 6.0831\n",
      "Function value obtained: -0.0410\n",
      "Current minimum: -0.0525\n",
      "Iteration No: 212 started. Searching for the next optimal point.\n"
     ]
    },
    {
     "name": "stderr",
     "output_type": "stream",
     "text": [
      "Epoch: 100%|██████████| 232/232 [00:16<00:00, 14.11it/s]\n",
      "Epoch:   0%|          | 0/219 [00:00<?, ?it/s]"
     ]
    },
    {
     "name": "stdout",
     "output_type": "stream",
     "text": [
      "Iteration No: 212 ended. Search finished for the next optimal point.\n",
      "Time taken: 16.6443\n",
      "Function value obtained: -0.0377\n",
      "Current minimum: -0.0525\n",
      "Iteration No: 213 started. Searching for the next optimal point.\n"
     ]
    },
    {
     "name": "stderr",
     "output_type": "stream",
     "text": [
      "Epoch: 100%|██████████| 219/219 [00:41<00:00,  5.22it/s]\n",
      "Epoch:   0%|          | 0/177 [00:00<?, ?it/s]"
     ]
    },
    {
     "name": "stdout",
     "output_type": "stream",
     "text": [
      "Iteration No: 213 ended. Search finished for the next optimal point.\n",
      "Time taken: 42.1987\n",
      "Function value obtained: -0.0295\n",
      "Current minimum: -0.0525\n",
      "Iteration No: 214 started. Searching for the next optimal point.\n"
     ]
    },
    {
     "name": "stderr",
     "output_type": "stream",
     "text": [
      "Epoch: 100%|██████████| 177/177 [00:41<00:00,  4.25it/s]\n",
      "Epoch:   1%|          | 2/216 [00:00<00:12, 17.71it/s]"
     ]
    },
    {
     "name": "stdout",
     "output_type": "stream",
     "text": [
      "Iteration No: 214 ended. Search finished for the next optimal point.\n",
      "Time taken: 41.8584\n",
      "Function value obtained: -0.0410\n",
      "Current minimum: -0.0525\n",
      "Iteration No: 215 started. Searching for the next optimal point.\n"
     ]
    },
    {
     "name": "stderr",
     "output_type": "stream",
     "text": [
      "Epoch: 100%|██████████| 216/216 [00:11<00:00, 18.58it/s]\n",
      "Epoch:   0%|          | 0/255 [00:00<?, ?it/s]"
     ]
    },
    {
     "name": "stdout",
     "output_type": "stream",
     "text": [
      "Iteration No: 215 ended. Search finished for the next optimal point.\n",
      "Time taken: 11.8208\n",
      "Function value obtained: -0.0328\n",
      "Current minimum: -0.0525\n",
      "Iteration No: 216 started. Searching for the next optimal point.\n"
     ]
    },
    {
     "name": "stderr",
     "output_type": "stream",
     "text": [
      "Epoch: 100%|██████████| 255/255 [01:00<00:00,  4.20it/s]\n",
      "Epoch:  17%|█▋        | 2/12 [00:00<00:00, 17.31it/s]"
     ]
    },
    {
     "name": "stdout",
     "output_type": "stream",
     "text": [
      "Iteration No: 216 ended. Search finished for the next optimal point.\n",
      "Time taken: 61.0113\n",
      "Function value obtained: -0.0016\n",
      "Current minimum: -0.0525\n",
      "Iteration No: 217 started. Searching for the next optimal point.\n"
     ]
    },
    {
     "name": "stderr",
     "output_type": "stream",
     "text": [
      "Epoch: 100%|██████████| 12/12 [00:00<00:00, 17.12it/s]\n",
      "Epoch:   0%|          | 0/177 [00:00<?, ?it/s]"
     ]
    },
    {
     "name": "stdout",
     "output_type": "stream",
     "text": [
      "Iteration No: 217 ended. Search finished for the next optimal point.\n",
      "Time taken: 0.8960\n",
      "Function value obtained: -0.0328\n",
      "Current minimum: -0.0525\n",
      "Iteration No: 218 started. Searching for the next optimal point.\n"
     ]
    },
    {
     "name": "stderr",
     "output_type": "stream",
     "text": [
      "Epoch: 100%|██████████| 177/177 [00:40<00:00,  4.36it/s]\n",
      "Epoch:   1%|          | 2/224 [00:00<00:18, 11.82it/s]"
     ]
    },
    {
     "name": "stdout",
     "output_type": "stream",
     "text": [
      "Iteration No: 218 ended. Search finished for the next optimal point.\n",
      "Time taken: 40.8092\n",
      "Function value obtained: -0.0377\n",
      "Current minimum: -0.0525\n",
      "Iteration No: 219 started. Searching for the next optimal point.\n"
     ]
    },
    {
     "name": "stderr",
     "output_type": "stream",
     "text": [
      "Epoch: 100%|██████████| 224/224 [00:18<00:00, 11.87it/s]\n",
      "Epoch:   2%|▏         | 2/126 [00:00<00:11, 11.06it/s]"
     ]
    },
    {
     "name": "stdout",
     "output_type": "stream",
     "text": [
      "Iteration No: 219 ended. Search finished for the next optimal point.\n",
      "Time taken: 19.0771\n",
      "Function value obtained: -0.0328\n",
      "Current minimum: -0.0525\n",
      "Iteration No: 220 started. Searching for the next optimal point.\n"
     ]
    },
    {
     "name": "stderr",
     "output_type": "stream",
     "text": [
      "Epoch: 100%|██████████| 126/126 [00:11<00:00, 10.93it/s]\n",
      "Epoch:   1%|          | 1/190 [00:00<00:33,  5.62it/s]"
     ]
    },
    {
     "name": "stdout",
     "output_type": "stream",
     "text": [
      "Iteration No: 220 ended. Search finished for the next optimal point.\n",
      "Time taken: 11.7354\n",
      "Function value obtained: -0.0393\n",
      "Current minimum: -0.0525\n",
      "Iteration No: 221 started. Searching for the next optimal point.\n"
     ]
    },
    {
     "name": "stderr",
     "output_type": "stream",
     "text": [
      "Epoch: 100%|██████████| 190/190 [00:28<00:00,  6.62it/s]\n",
      "Epoch:   0%|          | 0/101 [00:00<?, ?it/s]"
     ]
    },
    {
     "name": "stdout",
     "output_type": "stream",
     "text": [
      "Iteration No: 221 ended. Search finished for the next optimal point.\n",
      "Time taken: 28.9243\n",
      "Function value obtained: -0.0082\n",
      "Current minimum: -0.0525\n",
      "Iteration No: 222 started. Searching for the next optimal point.\n"
     ]
    },
    {
     "name": "stderr",
     "output_type": "stream",
     "text": [
      "Epoch: 100%|██████████| 101/101 [00:21<00:00,  4.62it/s]\n",
      "Epoch:   2%|▏         | 2/110 [00:00<00:06, 17.56it/s]"
     ]
    },
    {
     "name": "stdout",
     "output_type": "stream",
     "text": [
      "Iteration No: 222 ended. Search finished for the next optimal point.\n",
      "Time taken: 22.0951\n",
      "Function value obtained: -0.0066\n",
      "Current minimum: -0.0525\n",
      "Iteration No: 223 started. Searching for the next optimal point.\n"
     ]
    },
    {
     "name": "stderr",
     "output_type": "stream",
     "text": [
      "Epoch: 100%|██████████| 110/110 [00:06<00:00, 17.75it/s]\n",
      "Epoch:   1%|          | 2/242 [00:00<00:12, 19.08it/s]"
     ]
    },
    {
     "name": "stdout",
     "output_type": "stream",
     "text": [
      "Iteration No: 223 ended. Search finished for the next optimal point.\n",
      "Time taken: 6.4294\n",
      "Function value obtained: -0.0328\n",
      "Current minimum: -0.0525\n",
      "Iteration No: 224 started. Searching for the next optimal point.\n"
     ]
    },
    {
     "name": "stderr",
     "output_type": "stream",
     "text": [
      "Epoch: 100%|██████████| 242/242 [00:12<00:00, 19.88it/s]\n",
      "Epoch:   0%|          | 0/102 [00:00<?, ?it/s]"
     ]
    },
    {
     "name": "stdout",
     "output_type": "stream",
     "text": [
      "Iteration No: 224 ended. Search finished for the next optimal point.\n",
      "Time taken: 12.3732\n",
      "Function value obtained: -0.0328\n",
      "Current minimum: -0.0525\n",
      "Iteration No: 225 started. Searching for the next optimal point.\n"
     ]
    },
    {
     "name": "stderr",
     "output_type": "stream",
     "text": [
      "Epoch: 100%|██████████| 102/102 [00:22<00:00,  4.49it/s]\n",
      "Epoch:   0%|          | 0/122 [00:00<?, ?it/s]"
     ]
    },
    {
     "name": "stdout",
     "output_type": "stream",
     "text": [
      "Iteration No: 225 ended. Search finished for the next optimal point.\n",
      "Time taken: 22.9364\n",
      "Function value obtained: -0.0426\n",
      "Current minimum: -0.0525\n",
      "Iteration No: 226 started. Searching for the next optimal point.\n"
     ]
    },
    {
     "name": "stderr",
     "output_type": "stream",
     "text": [
      "Epoch: 100%|██████████| 122/122 [00:26<00:00,  4.54it/s]\n",
      "Epoch:   0%|          | 0/181 [00:00<?, ?it/s]"
     ]
    },
    {
     "name": "stdout",
     "output_type": "stream",
     "text": [
      "Iteration No: 226 ended. Search finished for the next optimal point.\n",
      "Time taken: 27.1201\n",
      "Function value obtained: -0.0344\n",
      "Current minimum: -0.0525\n",
      "Iteration No: 227 started. Searching for the next optimal point.\n"
     ]
    },
    {
     "name": "stderr",
     "output_type": "stream",
     "text": [
      "Epoch: 100%|██████████| 181/181 [00:42<00:00,  4.31it/s]\n",
      "Epoch:   0%|          | 0/179 [00:00<?, ?it/s]"
     ]
    },
    {
     "name": "stdout",
     "output_type": "stream",
     "text": [
      "Iteration No: 227 ended. Search finished for the next optimal point.\n",
      "Time taken: 42.2501\n",
      "Function value obtained: -0.0459\n",
      "Current minimum: -0.0525\n",
      "Iteration No: 228 started. Searching for the next optimal point.\n"
     ]
    },
    {
     "name": "stderr",
     "output_type": "stream",
     "text": [
      "Epoch: 100%|██████████| 179/179 [00:41<00:00,  4.34it/s]\n",
      "Epoch:   0%|          | 0/128 [00:00<?, ?it/s]"
     ]
    },
    {
     "name": "stdout",
     "output_type": "stream",
     "text": [
      "Iteration No: 228 ended. Search finished for the next optimal point.\n",
      "Time taken: 41.4996\n",
      "Function value obtained: -0.0033\n",
      "Current minimum: -0.0525\n",
      "Iteration No: 229 started. Searching for the next optimal point.\n"
     ]
    },
    {
     "name": "stderr",
     "output_type": "stream",
     "text": [
      "Epoch: 100%|██████████| 128/128 [00:29<00:00,  4.38it/s]\n",
      "Epoch:   0%|          | 0/182 [00:00<?, ?it/s]"
     ]
    },
    {
     "name": "stdout",
     "output_type": "stream",
     "text": [
      "Iteration No: 229 ended. Search finished for the next optimal point.\n",
      "Time taken: 29.4416\n",
      "Function value obtained: -0.0328\n",
      "Current minimum: -0.0525\n",
      "Iteration No: 230 started. Searching for the next optimal point.\n"
     ]
    },
    {
     "name": "stderr",
     "output_type": "stream",
     "text": [
      "Epoch: 100%|██████████| 182/182 [00:30<00:00,  6.01it/s]\n",
      "Epoch:   0%|          | 0/216 [00:00<?, ?it/s]"
     ]
    },
    {
     "name": "stdout",
     "output_type": "stream",
     "text": [
      "Iteration No: 230 ended. Search finished for the next optimal point.\n",
      "Time taken: 30.5094\n",
      "Function value obtained: -0.0049\n",
      "Current minimum: -0.0525\n",
      "Iteration No: 231 started. Searching for the next optimal point.\n"
     ]
    },
    {
     "name": "stderr",
     "output_type": "stream",
     "text": [
      "Epoch: 100%|██████████| 216/216 [00:50<00:00,  4.30it/s]\n",
      "Epoch:   0%|          | 0/205 [00:00<?, ?it/s]"
     ]
    },
    {
     "name": "stdout",
     "output_type": "stream",
     "text": [
      "Iteration No: 231 ended. Search finished for the next optimal point.\n",
      "Time taken: 50.4284\n",
      "Function value obtained: -0.0459\n",
      "Current minimum: -0.0525\n",
      "Iteration No: 232 started. Searching for the next optimal point.\n"
     ]
    },
    {
     "name": "stderr",
     "output_type": "stream",
     "text": [
      "Epoch: 100%|██████████| 205/205 [01:00<00:00,  3.40it/s]\n",
      "Epoch:   0%|          | 0/230 [00:00<?, ?it/s]"
     ]
    },
    {
     "name": "stdout",
     "output_type": "stream",
     "text": [
      "Iteration No: 232 ended. Search finished for the next optimal point.\n",
      "Time taken: 60.8013\n",
      "Function value obtained: -0.0393\n",
      "Current minimum: -0.0525\n",
      "Iteration No: 233 started. Searching for the next optimal point.\n"
     ]
    },
    {
     "name": "stderr",
     "output_type": "stream",
     "text": [
      "Epoch: 100%|██████████| 230/230 [00:58<00:00,  3.96it/s]\n",
      "Epoch:   0%|          | 0/179 [00:00<?, ?it/s]"
     ]
    },
    {
     "name": "stdout",
     "output_type": "stream",
     "text": [
      "Iteration No: 233 ended. Search finished for the next optimal point.\n",
      "Time taken: 58.3040\n",
      "Function value obtained: -0.0131\n",
      "Current minimum: -0.0525\n",
      "Iteration No: 234 started. Searching for the next optimal point.\n"
     ]
    },
    {
     "name": "stderr",
     "output_type": "stream",
     "text": [
      "Epoch: 100%|██████████| 179/179 [01:06<00:00,  2.69it/s]\n",
      "Epoch:   0%|          | 0/157 [00:00<?, ?it/s]"
     ]
    },
    {
     "name": "stdout",
     "output_type": "stream",
     "text": [
      "Iteration No: 234 ended. Search finished for the next optimal point.\n",
      "Time taken: 66.9179\n",
      "Function value obtained: -0.0393\n",
      "Current minimum: -0.0525\n",
      "Iteration No: 235 started. Searching for the next optimal point.\n"
     ]
    },
    {
     "name": "stderr",
     "output_type": "stream",
     "text": [
      "Epoch: 100%|██████████| 157/157 [00:41<00:00,  3.75it/s]\n",
      "Epoch:   0%|          | 0/236 [00:00<?, ?it/s]"
     ]
    },
    {
     "name": "stdout",
     "output_type": "stream",
     "text": [
      "Iteration No: 235 ended. Search finished for the next optimal point.\n",
      "Time taken: 42.1473\n",
      "Function value obtained: -0.0328\n",
      "Current minimum: -0.0525\n",
      "Iteration No: 236 started. Searching for the next optimal point.\n"
     ]
    },
    {
     "name": "stderr",
     "output_type": "stream",
     "text": [
      "Epoch: 100%|██████████| 236/236 [01:11<00:00,  3.29it/s]\n",
      "Epoch:   0%|          | 0/205 [00:00<?, ?it/s]"
     ]
    },
    {
     "name": "stdout",
     "output_type": "stream",
     "text": [
      "Iteration No: 236 ended. Search finished for the next optimal point.\n",
      "Time taken: 72.2250\n",
      "Function value obtained: -0.0393\n",
      "Current minimum: -0.0525\n",
      "Iteration No: 237 started. Searching for the next optimal point.\n"
     ]
    },
    {
     "name": "stderr",
     "output_type": "stream",
     "text": [
      "Epoch: 100%|██████████| 205/205 [00:51<00:00,  3.97it/s]\n",
      "Epoch:   0%|          | 0/198 [00:00<?, ?it/s]"
     ]
    },
    {
     "name": "stdout",
     "output_type": "stream",
     "text": [
      "Iteration No: 237 ended. Search finished for the next optimal point.\n",
      "Time taken: 51.9335\n",
      "Function value obtained: -0.0180\n",
      "Current minimum: -0.0525\n",
      "Iteration No: 238 started. Searching for the next optimal point.\n"
     ]
    },
    {
     "name": "stderr",
     "output_type": "stream",
     "text": [
      "Epoch: 100%|██████████| 198/198 [01:00<00:00,  3.25it/s]\n",
      "Epoch:   0%|          | 0/188 [00:00<?, ?it/s]"
     ]
    },
    {
     "name": "stdout",
     "output_type": "stream",
     "text": [
      "Iteration No: 238 ended. Search finished for the next optimal point.\n",
      "Time taken: 61.1271\n",
      "Function value obtained: -0.0443\n",
      "Current minimum: -0.0525\n",
      "Iteration No: 239 started. Searching for the next optimal point.\n"
     ]
    },
    {
     "name": "stderr",
     "output_type": "stream",
     "text": [
      "Epoch: 100%|██████████| 188/188 [00:51<00:00,  3.64it/s]\n",
      "Epoch:   0%|          | 0/161 [00:00<?, ?it/s]"
     ]
    },
    {
     "name": "stdout",
     "output_type": "stream",
     "text": [
      "Iteration No: 239 ended. Search finished for the next optimal point.\n",
      "Time taken: 51.9297\n",
      "Function value obtained: -0.0410\n",
      "Current minimum: -0.0525\n",
      "Iteration No: 240 started. Searching for the next optimal point.\n"
     ]
    },
    {
     "name": "stderr",
     "output_type": "stream",
     "text": [
      "Epoch: 100%|██████████| 161/161 [00:44<00:00,  3.63it/s]\n",
      "Epoch:   0%|          | 0/180 [00:00<?, ?it/s]"
     ]
    },
    {
     "name": "stdout",
     "output_type": "stream",
     "text": [
      "Iteration No: 240 ended. Search finished for the next optimal point.\n",
      "Time taken: 44.5623\n",
      "Function value obtained: -0.0230\n",
      "Current minimum: -0.0525\n",
      "Iteration No: 241 started. Searching for the next optimal point.\n"
     ]
    },
    {
     "name": "stderr",
     "output_type": "stream",
     "text": [
      "Epoch: 100%|██████████| 180/180 [00:49<00:00,  3.62it/s]\n",
      "Epoch:   0%|          | 0/205 [00:00<?, ?it/s]"
     ]
    },
    {
     "name": "stdout",
     "output_type": "stream",
     "text": [
      "Iteration No: 241 ended. Search finished for the next optimal point.\n",
      "Time taken: 49.9793\n",
      "Function value obtained: -0.0443\n",
      "Current minimum: -0.0525\n",
      "Iteration No: 242 started. Searching for the next optimal point.\n"
     ]
    },
    {
     "name": "stderr",
     "output_type": "stream",
     "text": [
      "Epoch: 100%|██████████| 205/205 [00:56<00:00,  3.65it/s]\n",
      "Epoch:   0%|          | 0/217 [00:00<?, ?it/s]"
     ]
    },
    {
     "name": "stdout",
     "output_type": "stream",
     "text": [
      "Iteration No: 242 ended. Search finished for the next optimal point.\n",
      "Time taken: 56.4302\n",
      "Function value obtained: -0.0295\n",
      "Current minimum: -0.0525\n",
      "Iteration No: 243 started. Searching for the next optimal point.\n"
     ]
    },
    {
     "name": "stderr",
     "output_type": "stream",
     "text": [
      "Epoch: 100%|██████████| 217/217 [01:06<00:00,  3.28it/s]\n",
      "Epoch:   0%|          | 0/222 [00:00<?, ?it/s]"
     ]
    },
    {
     "name": "stdout",
     "output_type": "stream",
     "text": [
      "Iteration No: 243 ended. Search finished for the next optimal point.\n",
      "Time taken: 66.4660\n",
      "Function value obtained: -0.0000\n",
      "Current minimum: -0.0525\n",
      "Iteration No: 244 started. Searching for the next optimal point.\n"
     ]
    },
    {
     "name": "stderr",
     "output_type": "stream",
     "text": [
      "Epoch: 100%|██████████| 222/222 [01:03<00:00,  3.52it/s]\n",
      "Epoch:   0%|          | 0/136 [00:00<?, ?it/s]"
     ]
    },
    {
     "name": "stdout",
     "output_type": "stream",
     "text": [
      "Iteration No: 244 ended. Search finished for the next optimal point.\n",
      "Time taken: 63.3067\n",
      "Function value obtained: -0.0328\n",
      "Current minimum: -0.0525\n",
      "Iteration No: 245 started. Searching for the next optimal point.\n"
     ]
    },
    {
     "name": "stderr",
     "output_type": "stream",
     "text": [
      "Epoch: 100%|██████████| 136/136 [00:27<00:00,  4.91it/s]\n",
      "Epoch:   0%|          | 0/254 [00:00<?, ?it/s]"
     ]
    },
    {
     "name": "stdout",
     "output_type": "stream",
     "text": [
      "Iteration No: 245 ended. Search finished for the next optimal point.\n",
      "Time taken: 28.0500\n",
      "Function value obtained: -0.0131\n",
      "Current minimum: -0.0525\n",
      "Iteration No: 246 started. Searching for the next optimal point.\n"
     ]
    },
    {
     "name": "stderr",
     "output_type": "stream",
     "text": [
      "Epoch: 100%|██████████| 254/254 [01:10<00:00,  3.59it/s]\n",
      "Epoch:   0%|          | 0/197 [00:00<?, ?it/s]"
     ]
    },
    {
     "name": "stdout",
     "output_type": "stream",
     "text": [
      "Iteration No: 246 ended. Search finished for the next optimal point.\n",
      "Time taken: 71.0520\n",
      "Function value obtained: -0.0443\n",
      "Current minimum: -0.0525\n",
      "Iteration No: 247 started. Searching for the next optimal point.\n"
     ]
    },
    {
     "name": "stderr",
     "output_type": "stream",
     "text": [
      "Epoch: 100%|██████████| 197/197 [00:55<00:00,  3.53it/s]\n",
      "Epoch:   0%|          | 0/223 [00:00<?, ?it/s]"
     ]
    },
    {
     "name": "stdout",
     "output_type": "stream",
     "text": [
      "Iteration No: 247 ended. Search finished for the next optimal point.\n",
      "Time taken: 55.9797\n",
      "Function value obtained: -0.0246\n",
      "Current minimum: -0.0525\n",
      "Iteration No: 248 started. Searching for the next optimal point.\n"
     ]
    },
    {
     "name": "stderr",
     "output_type": "stream",
     "text": [
      "Epoch: 100%|██████████| 223/223 [00:52<00:00,  4.25it/s]\n",
      "Epoch:   0%|          | 1/221 [00:00<00:41,  5.30it/s]"
     ]
    },
    {
     "name": "stdout",
     "output_type": "stream",
     "text": [
      "Iteration No: 248 ended. Search finished for the next optimal point.\n",
      "Time taken: 52.6809\n",
      "Function value obtained: -0.0377\n",
      "Current minimum: -0.0525\n",
      "Iteration No: 249 started. Searching for the next optimal point.\n"
     ]
    },
    {
     "name": "stderr",
     "output_type": "stream",
     "text": [
      "Epoch: 100%|██████████| 221/221 [00:53<00:00,  4.11it/s]\n",
      "Epoch:   0%|          | 0/241 [00:00<?, ?it/s]"
     ]
    },
    {
     "name": "stdout",
     "output_type": "stream",
     "text": [
      "Iteration No: 249 ended. Search finished for the next optimal point.\n",
      "Time taken: 54.2348\n",
      "Function value obtained: -0.0393\n",
      "Current minimum: -0.0525\n",
      "Iteration No: 250 started. Searching for the next optimal point.\n"
     ]
    },
    {
     "name": "stderr",
     "output_type": "stream",
     "text": [
      "Epoch: 100%|██████████| 241/241 [01:05<00:00,  3.69it/s]\n"
     ]
    },
    {
     "name": "stdout",
     "output_type": "stream",
     "text": [
      "Iteration No: 250 ended. Search finished for the next optimal point.\n",
      "Time taken: 65.8754\n",
      "Function value obtained: -0.0361\n",
      "Current minimum: -0.0525\n"
     ]
    }
   ],
   "source": [
    "space = [(1, 260), # epochs\n",
    "         (10**-4, 1.0, 'log-uniform'), # learning_rate\n",
    "         (20, 200), # no_components\n",
    "         (10**-6, 10**-1, 'log-uniform'), # alpha\n",
    "        ]\n",
    "\n",
    "res_fm = forest_minimize(objective, space, n_calls=250,\n",
    "                     random_state=0,\n",
    "                     verbose=True)"
   ]
  },
  {
   "cell_type": "code",
   "execution_count": 46,
   "id": "53fe03e3",
   "metadata": {},
   "outputs": [
    {
     "name": "stdout",
     "output_type": "stream",
     "text": [
      "Maximimum p@k found: 0.05246\n",
      "Optimal parameters:\n",
      "epochs: 180\n",
      "learning_rate: 0.07220663065048905\n",
      "no_components: 49\n",
      "alpha: 0.0015905757652518876\n"
     ]
    }
   ],
   "source": [
    "print('Maximimum p@k found: {:6.5f}'.format(-res_fm.fun))\n",
    "print('Optimal parameters:')\n",
    "params = ['epochs', 'learning_rate', 'no_components', 'alpha']\n",
    "for (p, x_) in zip(params, res_fm.x):\n",
    "    print('{}: {}'.format(p, x_))"
   ]
  },
  {
   "cell_type": "code",
   "execution_count": 47,
   "id": "4f0acad9",
   "metadata": {},
   "outputs": [],
   "source": [
    "df = pd.read_csv('ml-latest/ratings.csv')"
   ]
  },
  {
   "cell_type": "code",
   "execution_count": 48,
   "id": "ae4124fa",
   "metadata": {},
   "outputs": [
    {
     "name": "stdout",
     "output_type": "stream",
     "text": [
      "Starting interactions info\n",
      "Number of rows: 283228\n",
      "Number of cols: 53889\n",
      "Sparsity: 0.182%\n",
      "Ending interactions info\n",
      "Number of rows: 266956\n",
      "Number of columns: 30808\n",
      "Sparsity: 0.336%\n"
     ]
    }
   ],
   "source": [
    "new_df = threshold_interactions_df(df, 'userId', 'movieId', 5, 5)"
   ]
  },
  {
   "cell_type": "code",
   "execution_count": 49,
   "id": "d9a10572",
   "metadata": {},
   "outputs": [],
   "source": [
    "likes, uid_to_idx, idx_to_uid,mid_to_idx, idx_to_mid = df_to_matrix(new_df, 'userId', 'movieId')"
   ]
  },
  {
   "cell_type": "code",
   "execution_count": 50,
   "id": "5fe36347",
   "metadata": {},
   "outputs": [
    {
     "data": {
      "text/plain": [
       "<266956x30808 sparse matrix of type '<class 'numpy.float64'>'\n",
       "\twith 27671427 stored elements in Compressed Sparse Row format>"
      ]
     },
     "execution_count": 50,
     "metadata": {},
     "output_type": "execute_result"
    }
   ],
   "source": [
    "likes"
   ]
  },
  {
   "cell_type": "code",
   "execution_count": 51,
   "id": "5d56b8f9",
   "metadata": {},
   "outputs": [],
   "source": [
    "train, test, user_index = train_test_split(likes, 5, fraction=0.2)"
   ]
  },
  {
   "cell_type": "code",
   "execution_count": 52,
   "id": "07f2e3c1",
   "metadata": {},
   "outputs": [],
   "source": [
    "eval_train = train.copy()\n",
    "non_eval_users = list(set(range(train.shape[0])) - set(user_index))\n",
    "\n",
    "eval_train = eval_train.tolil()\n",
    "for u in non_eval_users:\n",
    "    eval_train[u, :] = 0.0\n",
    "eval_train = eval_train.tocsr()"
   ]
  },
  {
   "cell_type": "code",
   "execution_count": 54,
   "id": "f8ad6022",
   "metadata": {},
   "outputs": [],
   "source": [
    "feat_dlist = [{} for _ in idx_to_mid]\n",
    "for idx, row in new_df.iterrows():\n",
    "    feat_key = '{}'.format(row.rating)\n",
    "    idx = mid_to_idx.get(row.movieId)\n",
    "    if idx is not None:\n",
    "        feat_dlist[idx][feat_key] = 1"
   ]
  },
  {
   "cell_type": "code",
   "execution_count": 55,
   "id": "1a4407e7",
   "metadata": {},
   "outputs": [],
   "source": [
    "dv = DictVectorizer()\n",
    "item_features = dv.fit_transform(feat_dlist)"
   ]
  },
  {
   "cell_type": "code",
   "execution_count": null,
   "id": "fe5ea6d3",
   "metadata": {},
   "outputs": [],
   "source": [
    "space = [(1, 260), # epochs\n",
    "         (10**-4, 1.0, 'log-uniform'), # learning_rate\n",
    "         (20, 200), # no_components\n",
    "         (10**-6, 10**-1, 'log-uniform'), # alpha\n",
    "        ]\n",
    "\n",
    "res_fm = forest_minimize(objective, space, n_calls=250,\n",
    "                     random_state=0,\n",
    "                     verbose=True)"
   ]
  },
  {
   "cell_type": "code",
   "execution_count": null,
   "id": "1b7cb12d",
   "metadata": {},
   "outputs": [],
   "source": []
  }
 ],
 "metadata": {
  "kernelspec": {
   "display_name": "Python 3",
   "language": "python",
   "name": "python3"
  },
  "language_info": {
   "codemirror_mode": {
    "name": "ipython",
    "version": 3
   },
   "file_extension": ".py",
   "mimetype": "text/x-python",
   "name": "python",
   "nbconvert_exporter": "python",
   "pygments_lexer": "ipython3",
   "version": "3.8.8"
  }
 },
 "nbformat": 4,
 "nbformat_minor": 5
}
